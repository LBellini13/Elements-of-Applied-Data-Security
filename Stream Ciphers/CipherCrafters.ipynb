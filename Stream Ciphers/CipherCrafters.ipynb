{
 "cells": [
  {
   "cell_type": "markdown",
   "id": "bd7ea495",
   "metadata": {},
   "source": [
    "# Stream Ciphers"
   ]
  },
  {
   "cell_type": "code",
   "execution_count": 1,
   "id": "5a21e285-771a-4a16-a1d3-29a418c1de67",
   "metadata": {},
   "outputs": [],
   "source": [
    "import streamcipher\n",
    "from streamcipher import LFSR\n",
    "from streamcipher import berlekamp_massey\n",
    "from streamcipher import ShrinkingGenerator\n",
    "import numpy as np\n",
    "from functools import reduce\n",
    "from itertools import compress\n",
    "from operator import xor"
   ]
  },
  {
   "cell_type": "markdown",
   "id": "9d5dd3e2",
   "metadata": {},
   "source": [
    "## Introduction"
   ]
  },
  {
   "cell_type": "markdown",
   "id": "8ef1483c",
   "metadata": {},
   "source": [
    "**Stream Ciphers** are symmetric key algorithms that encrypt the plaintext combining it with the **keystream**, a sequence of bits obtained from the key, typically applying a bitwise XOR operation. Due to the fact that bits can be seen as elements of GF(2), the inverse of the XOR operation is the XOR operation itself, then decryption is achieved by applying the same bitwise XOR operation to the ciphertext. \n",
    "\n",
    "To avoid to have a key that is as long as the plaintext/ciphertext, the keystream is typically produced using a **Pseudo Random Number Generators (PRNG)**, commonly based on **Linear Feedback Shift Registers (LFSR)**."
   ]
  },
  {
   "cell_type": "markdown",
   "id": "fb6c6d09",
   "metadata": {},
   "source": [
    "![Stream Cipher general structure](../Report%20Images/stream%20cipher.jpg)"
   ]
  },
  {
   "cell_type": "markdown",
   "id": "5b263c05",
   "metadata": {},
   "source": [
    "In this notebook one will see the implementation of an LFSR together with the application of the Berlekamp-Massey algorithm to break it. Eventually a Shrinking Generator will be constructed."
   ]
  },
  {
   "cell_type": "markdown",
   "id": "149f9e72",
   "metadata": {},
   "source": [
    "## LFSR"
   ]
  },
  {
   "cell_type": "markdown",
   "id": "710a7cf5",
   "metadata": {},
   "source": [
    "A **Linear Feedback Shift Register (LFSR)** is a widely used component in cryptographic systems to generate pseudorandom binary sequences. It consists of a shift register whose input bit is determined by a linear combination of its previous state: this combination is performed using a feedback function, typically encoded as a polynomial, that selects certain state's bits to be XORed together and fed back into the register.\n",
    "\n",
    "The output sequence is always periodic and its period exclusively depends on the structure of the LFSR. As different LFSRs can produce identical sequences, the optimal design prioritizes the shortest register length."
   ]
  },
  {
   "cell_type": "markdown",
   "id": "68afde73",
   "metadata": {},
   "source": [
    "![Linear Feedback Shift Regsiter general structure](../Report%20Images/lfsr.jpg)"
   ]
  },
  {
   "cell_type": "markdown",
   "id": "3bbb6668",
   "metadata": {},
   "source": [
    "### LFSR implementation"
   ]
  },
  {
   "cell_type": "markdown",
   "id": "ebd5aaf2",
   "metadata": {},
   "source": [
    "Test LFSR implementation (all attributes and mehtods) with the polynomial `poly = [4, 1, 0]`."
   ]
  },
  {
   "cell_type": "code",
   "execution_count": 15,
   "id": "6be05e00",
   "metadata": {},
   "outputs": [
    {
     "name": "stdout",
     "output_type": "stream",
     "text": [
      "LFSR Initialization\n",
      "poly: [1, 0, 0, 1]\n",
      "init state: [1, 1, 1, 1]\n",
      "\n",
      "Feedback polynomial: [0, 1, 4]\n",
      "LFSR length: 4            \n",
      "Current state: b'\\x0f'\n",
      "\n",
      "Cycle completed. 15 elements\n",
      "[1, 1, 1, 1, 0, 1, 0, 1, 1, 0, 0, 1, 0, 0, 0]\n",
      "\n",
      "Here are 6 iterations of the LFSR\n",
      "[1, 1, 1, 1, 0, 1]\n",
      "\n",
      "Feedback polynomial: [0, 1, 4]\n",
      "LFSR length: 4            \n",
      "Current state: b'\\x06'\n",
      "0\n",
      "1\n",
      "1\n",
      "0\n",
      "0\n",
      "1\n",
      "0\n",
      "0\n",
      "0\n",
      "1\n",
      "1\n",
      "1\n",
      "1\n",
      "0\n",
      "1\n",
      "0\n",
      "1\n",
      "1\n",
      "0\n",
      "0\n"
     ]
    }
   ],
   "source": [
    "lfsr = LFSR([4, 1, 0])\n",
    "lfsr.__str__()\n",
    "print(lfsr.cycle())\n",
    "print(lfsr.run_steps(6))\n",
    "lfsr.__str__()\n",
    "for n, b in enumerate(lfsr):\n",
    "    if n == 20:\n",
    "        break\n",
    "    print(b)\n"
   ]
  },
  {
   "cell_type": "markdown",
   "id": "0f5f9c4e",
   "metadata": {},
   "source": [
    "## Berlekamp Massey"
   ]
  },
  {
   "cell_type": "markdown",
   "id": "661ac806",
   "metadata": {},
   "source": [
    "### testing"
   ]
  },
  {
   "cell_type": "markdown",
   "id": "c3400ce8",
   "metadata": {},
   "source": [
    "Test the implementation Berlekamp-Massy Algorithm with the sequence produced by the following LFSR:\n",
    "- `poly = [3, 1, 0]` and `state = '\\x06'`\n",
    "- `poly = [5, 2, 1, 0]` and `state = '\\x05'`\n",
    "- `poly = [96, 81, 17, 15, 0]` and `state = b'streamcipher'`"
   ]
  },
  {
   "cell_type": "code",
   "execution_count": 3,
   "id": "d18d3dda",
   "metadata": {},
   "outputs": [
    {
     "name": "stdout",
     "output_type": "stream",
     "text": [
      "LFSR Initialization\n",
      "poly: [1, 0, 1]\n",
      "init state: [1, 1, 0]\n",
      "\n",
      "Cycle completed. 7 elements\n"
     ]
    },
    {
     "data": {
      "text/plain": [
       "[0, 1, 3]"
      ]
     },
     "execution_count": 3,
     "metadata": {},
     "output_type": "execute_result"
    }
   ],
   "source": [
    "lfsr = LFSR([3, 1, 0], b'\\x06')\n",
    "bit_sequence = lfsr.cycle()\n",
    "# print(bit_sequence)\n",
    "berlekamp_massey(bit_sequence)"
   ]
  },
  {
   "cell_type": "code",
   "execution_count": 4,
   "id": "fc06f0e4",
   "metadata": {},
   "outputs": [
    {
     "name": "stdout",
     "output_type": "stream",
     "text": [
      "LFSR Initialization\n",
      "poly: [1, 1, 0, 0, 1]\n",
      "init state: [0, 0, 1, 0, 1]\n",
      "\n",
      "Cycle completed. 7 elements\n"
     ]
    },
    {
     "data": {
      "text/plain": [
       "[0, 1, 3]"
      ]
     },
     "execution_count": 4,
     "metadata": {},
     "output_type": "execute_result"
    }
   ],
   "source": [
    "lfsr = LFSR([1, 5, 2, 0], b'\\x05')\n",
    "bit_sequence = lfsr.cycle()\n",
    "# print(bit_sequence)\n",
    "berlekamp_massey(bit_sequence)"
   ]
  },
  {
   "cell_type": "code",
   "execution_count": 5,
   "id": "3c337c61",
   "metadata": {},
   "outputs": [
    {
     "name": "stdout",
     "output_type": "stream",
     "text": [
      "LFSR Initialization\n",
      "poly: [0, 0, 0, 0, 0, 0, 0, 0, 0, 0, 0, 0, 0, 0, 1, 0, 1, 0, 0, 0, 0, 0, 0, 0, 0, 0, 0, 0, 0, 0, 0, 0, 0, 0, 0, 0, 0, 0, 0, 0, 0, 0, 0, 0, 0, 0, 0, 0, 0, 0, 0, 0, 0, 0, 0, 0, 0, 0, 0, 0, 0, 0, 0, 0, 0, 0, 0, 0, 0, 0, 0, 0, 0, 0, 0, 0, 0, 0, 0, 0, 1, 0, 0, 0, 0, 0, 0, 0, 0, 0, 0, 0, 0, 0, 1]\n",
      "init state: [1, 1, 1, 0, 0, 1, 1, 0, 1, 1, 1, 0, 1, 0, 0, 0, 1, 1, 1, 0, 0, 1, 0, 0, 1, 1, 0, 0, 1, 0, 1, 0, 1, 1, 0, 0, 0, 0, 1, 0, 1, 1, 0, 1, 1, 0, 1, 0, 1, 1, 0, 0, 0, 1, 1, 0, 1, 1, 0, 1, 0, 0, 1, 0, 1, 1, 1, 0, 0, 0, 0, 0, 1, 1, 0, 1, 0, 0, 0, 0, 1, 1, 0, 0, 1, 0, 1, 0, 1, 1, 1, 0, 0, 1, 0]\n",
      "\n",
      "Here are 190 iterations of the LFSR\n"
     ]
    },
    {
     "data": {
      "text/plain": [
       "[0, 15, 17, 81, 95]"
      ]
     },
     "execution_count": 5,
     "metadata": {},
     "output_type": "execute_result"
    }
   ],
   "source": [
    "lfsr = LFSR([0, 17, 81, 15, 95], b'streamcipher')\n",
    "# The cycle takes too long to be computed. For time reasons the sequence is \n",
    "#made of the minimum amount of bits to correctly guess the feedback polynomial\n",
    "bit_sequence = lfsr.run_steps(190)\n",
    "# print(bit_sequence)\n",
    "berlekamp_massey(bit_sequence)"
   ]
  },
  {
   "cell_type": "markdown",
   "id": "71170711",
   "metadata": {},
   "source": [
    "Load `'binary_sequence'` and find the polynomial corresponding to the shortest LFSR that can produce that sequence."
   ]
  },
  {
   "cell_type": "code",
   "execution_count": 6,
   "id": "42256487",
   "metadata": {},
   "outputs": [
    {
     "data": {
      "text/plain": [
       "[0, 2, 9, 12, 13, 14, 16]"
      ]
     },
     "execution_count": 6,
     "metadata": {},
     "output_type": "execute_result"
    }
   ],
   "source": [
    "with open('binary_sequence.bin', 'rb') as f:\n",
    "    bit_sequence = f.read()\n",
    "bit_sequence = streamcipher.bytes_to_bool_list(bit_sequence)\n",
    "# print(bit_sequence)\n",
    "berlekamp_massey(bit_sequence)"
   ]
  },
  {
   "cell_type": "markdown",
   "id": "11f7dd2d",
   "metadata": {},
   "source": [
    "## LFSR-based Generator (Shrinking Generator)"
   ]
  },
  {
   "cell_type": "code",
   "execution_count": 7,
   "id": "258b2316",
   "metadata": {},
   "outputs": [
    {
     "data": {
      "text/plain": [
       "0"
      ]
     },
     "execution_count": 7,
     "metadata": {},
     "output_type": "execute_result"
    }
   ],
   "source": [
    "group_name = b'CipherCrafters'\n",
    "group_name_bits = streamcipher.bytes_to_bool_list(group_name)\n",
    "parity_bit = reduce(xor, group_name_bits)\n",
    "parity_bit"
   ]
  },
  {
   "cell_type": "markdown",
   "id": "13198006",
   "metadata": {
    "tags": []
   },
   "source": [
    "### testing"
   ]
  },
  {
   "cell_type": "markdown",
   "id": "69edbabe-9b0f-435f-bd4b-0d450f713bc1",
   "metadata": {},
   "source": [
    "Test Generator implementation (all attributes and methods)."
   ]
  },
  {
   "cell_type": "code",
   "execution_count": 8,
   "id": "38f54c80-e3d5-4a07-9038-be586d981db9",
   "metadata": {},
   "outputs": [
    {
     "name": "stdout",
     "output_type": "stream",
     "text": [
      "LFSR Initialization\n",
      "poly: [0, 1, 0, 0, 1]\n",
      "init state: [0, 0, 1, 1, 0]\n",
      "LFSR Initialization\n",
      "poly: [1, 0, 1]\n",
      "init state: [1, 0, 1]\n",
      "\n",
      "Here are 20 iterations of the Shrinking Generator\n",
      "[0, 1, 0, 1, 1, 1, 0, 1, 1, 1, 1, 0, 0, 0, 1, 0, 1, 1, 1, 0]\n"
     ]
    }
   ],
   "source": [
    "sh_gen = ShrinkingGenerator(b'\\x06', b'\\x05')\n",
    "g_seq = sh_gen.run_steps(20)\n",
    "print(g_seq)"
   ]
  },
  {
   "cell_type": "markdown",
   "id": "8d2b63d3",
   "metadata": {},
   "source": [
    "Decrypt the ciphertext in `ciphertext_shrinking.bin` or `ciphertext_selfshrinking.bin`."
   ]
  },
  {
   "cell_type": "code",
   "execution_count": 9,
   "id": "be3bbfe1-ed49-48f8-93b1-e38b730fc5bb",
   "metadata": {},
   "outputs": [
    {
     "name": "stdout",
     "output_type": "stream",
     "text": [
      "LFSR Initialization\n",
      "poly: [0, 0, 0, 0, 0, 0, 0, 0, 0, 1, 0, 1, 0, 0, 1, 1]\n",
      "init state: [1, 1, 0, 0, 0, 1, 0, 1, 1, 1, 0, 1, 0, 1, 1, 1]\n",
      "LFSR Initialization\n",
      "poly: [0, 1, 0, 0, 1, 0, 0, 0, 0, 0, 1, 0, 0, 0, 0, 0, 0, 0, 0, 0, 0, 0, 0, 1]\n",
      "init state: [0, 0, 0, 1, 0, 1, 0, 0, 1, 0, 0, 0, 0, 1, 0, 0, 1, 1, 1, 1, 1, 0, 0, 0]\n"
     ]
    }
   ],
   "source": [
    "polyA = [16, 15, 12, 10, 0]\n",
    "polyS = [24, 11, 5, 2, 0]\n",
    "stateA = b'\\xc5\\xd7' \n",
    "stateS = b'\\x14\\x84\\xf8'\n",
    "\n",
    "sh_gen = ShrinkingGenerator(stateA, stateS, polyA, polyS)"
   ]
  },
  {
   "cell_type": "code",
   "execution_count": 10,
   "id": "55126a94",
   "metadata": {},
   "outputs": [],
   "source": [
    "with open('ciphertext_shrinking.bin', 'rb') as f:\n",
    "    ciphertext_shrinking = f.read()"
   ]
  },
  {
   "cell_type": "code",
   "execution_count": 11,
   "id": "1f27a48f",
   "metadata": {},
   "outputs": [
    {
     "name": "stdout",
     "output_type": "stream",
     "text": [
      "\n",
      "Here are 4992 iterations of the Shrinking Generator\n",
      "b'The Shrinking Generator\\nDon Coppersmith, Hugo Krawczyk, Yishay Mansour\\nIBM T.J. Watson Research Center\\nYorktown Heights, NY 10598\\n\\nAbstract. We present a new construction of a pseudorandom generator based on a simple combination of two LFSRs. The construction bas attractive properties as simplicity (conceptual and implementation-wise), scalability (hardware and security), proven minimal security conditions (exponential period, exponential linear complexity, good statistical properties), and resistance to known attacks. The construction is suitable for practical implementation of efficient stream cipher cryptosystems.'\n"
     ]
    }
   ],
   "source": [
    "ciphertext_shrinking = streamcipher.bytes_to_bool_list(ciphertext_shrinking)\n",
    "sh_seq = sh_gen.run_steps(len(ciphertext_shrinking))\n",
    "\n",
    "shrinking_plaintext = [cipher ^ gen for cipher, gen in zip(ciphertext_shrinking, sh_seq)]\n",
    "shrinking_plaintext = streamcipher.bool_list_to_bytes(shrinking_plaintext)\n",
    "\n",
    "print(shrinking_plaintext)"
   ]
  },
  {
   "cell_type": "markdown",
   "id": "0fdca22c",
   "metadata": {
    "tags": []
   },
   "source": [
    "## Conclusion"
   ]
  }
 ],
 "metadata": {
  "kernelspec": {
   "display_name": "Python 3 (ipykernel)",
   "language": "python",
   "name": "python3"
  },
  "language_info": {
   "codemirror_mode": {
    "name": "ipython",
    "version": 3
   },
   "file_extension": ".py",
   "mimetype": "text/x-python",
   "name": "python",
   "nbconvert_exporter": "python",
   "pygments_lexer": "ipython3",
   "version": "3.10.11"
  }
 },
 "nbformat": 4,
 "nbformat_minor": 5
}
