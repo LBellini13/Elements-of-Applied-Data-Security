{
 "cells": [
  {
   "cell_type": "code",
   "execution_count": 3,
   "metadata": {},
   "outputs": [],
   "source": [
    "from rsa import ExtendedEuclideanAlgorithm, SquareAndMultiply, MillerRabin#, RSA"
   ]
  },
  {
   "cell_type": "markdown",
   "metadata": {},
   "source": [
    "# RSA"
   ]
  },
  {
   "cell_type": "markdown",
   "metadata": {},
   "source": [
    "## Extended Euclidean Algorithm"
   ]
  },
  {
   "cell_type": "code",
   "execution_count": 4,
   "metadata": {},
   "outputs": [
    {
     "name": "stdout",
     "output_type": "stream",
     "text": [
      "The GCD of 60 and 39 is 3\n",
      "s = 2 and t = -3 are the values so that sa + tm = gcd(a, m), indeed 2*60 + -3*39 = 3\n",
      "\n",
      "The GCD of 2560945 and 98714510 is 5\n",
      "s = 4135267 and t = -107281 are the values so that sa + tm = gcd(a, m), indeed 4135267*2560945 + -107281*98714510 = 5\n"
     ]
    }
   ],
   "source": [
    "a = 60\n",
    "m = 39\n",
    "gcd, s, t = ExtendedEuclideanAlgorithm(a, m)\n",
    "print(f'The GCD of {a} and {m} is {gcd}')\n",
    "print(f's = {int(s)} and t = {int(t)} are the values so that sa + tm = gcd(a, m),'\\\n",
    "        f' indeed {int(s)}*{a} + {int(t)}*{m} = {gcd}\\n')\n",
    "\n",
    "a = 2560945\n",
    "m = 98714510\n",
    "gcd, s, t = ExtendedEuclideanAlgorithm(a, m)\n",
    "print(f'The GCD of {a} and {m} is {gcd}')\n",
    "print(f's = {int(s)} and t = {int(t)} are the values so that sa + tm = gcd(a, m),'\\\n",
    "        f' indeed {int(s)}*{a} + {int(t)}*{m} = {gcd}')\n"
   ]
  },
  {
   "cell_type": "markdown",
   "metadata": {},
   "source": [
    "## Square and Multiply"
   ]
  },
  {
   "cell_type": "code",
   "execution_count": 5,
   "metadata": {},
   "outputs": [
    {
     "name": "stdout",
     "output_type": "stream",
     "text": [
      "x^e \\ n = 16\n"
     ]
    }
   ],
   "source": [
    "x = 2\n",
    "e = 4\n",
    "n = 100\n",
    "y = SquareAndMultiply(x, e, n)\n",
    "print(f'x^e \\\\ n = {y}')"
   ]
  },
  {
   "cell_type": "markdown",
   "metadata": {},
   "source": [
    "## Miller Rabin Primality Test"
   ]
  },
  {
   "cell_type": "code",
   "execution_count": 202,
   "metadata": {},
   "outputs": [
    {
     "name": "stdout",
     "output_type": "stream",
     "text": [
      "q = 80930341192118349387458511926867392713304211, r = 1\n",
      "161860682384236698774917023853734785426608423 is not a prime number\n"
     ]
    }
   ],
   "source": [
    "# n = 6701531651\n",
    "# isprime = MillerRabin(n, 1000)\n",
    "# if isprime:\n",
    "#     print(f'{n} is probably a prime number')\n",
    "# else:\n",
    "#     print(f'{n} is not a prime number')\n",
    "\n",
    "# n = 1962443363\n",
    "# isprime = MillerRabin(n, 1000)\n",
    "# if isprime:\n",
    "#     print(f'{n} is probably a prime number')\n",
    "# else:\n",
    "#     print(f'{n} is not a prime number') \n",
    "\n",
    "# n = 786398548\n",
    "# isprime = MillerRabin(n, 1000)\n",
    "# if isprime:\n",
    "#     print(f'{n} is probably a prime number')\n",
    "# else:\n",
    "#     print(f'{n} is not a prime number')\n",
    "\n",
    "n = 735495555426839*587000395258763*374906457293939\n",
    "isprime = MillerRabin(n, 1000)\n",
    "if isprime:\n",
    "    print(f'{n} is probably a prime number')\n",
    "else:\n",
    "    print(f'{n} is not a prime number')\n",
    "\n"
   ]
  }
 ],
 "metadata": {
  "kernelspec": {
   "display_name": "data_security",
   "language": "python",
   "name": "python3"
  },
  "language_info": {
   "codemirror_mode": {
    "name": "ipython",
    "version": 3
   },
   "file_extension": ".py",
   "mimetype": "text/x-python",
   "name": "python",
   "nbconvert_exporter": "python",
   "pygments_lexer": "ipython3",
   "version": "3.12.3"
  }
 },
 "nbformat": 4,
 "nbformat_minor": 2
}
