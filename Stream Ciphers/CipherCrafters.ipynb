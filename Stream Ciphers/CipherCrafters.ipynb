{
 "cells": [
  {
   "cell_type": "markdown",
   "id": "bd7ea495",
   "metadata": {},
   "source": [
    "# Stream Ciphers"
   ]
  },
  {
   "cell_type": "code",
   "execution_count": 1,
   "id": "5a21e285-771a-4a16-a1d3-29a418c1de67",
   "metadata": {},
   "outputs": [],
   "source": [
    "import streamcipher\n",
    "from streamcipher import LFSR\n",
    "from streamcipher import berlekamp_massey\n",
    "from streamcipher import ShrinkingGenerator\n",
    "from functools import reduce\n",
    "from operator import xor"
   ]
  },
  {
   "cell_type": "markdown",
   "id": "9d5dd3e2",
   "metadata": {},
   "source": [
    "## Introduction"
   ]
  },
  {
   "cell_type": "markdown",
   "id": "8ef1483c",
   "metadata": {},
   "source": [
    "**Stream Ciphers** are symmetric key algorithms that encrypt the plaintext combining it with the **keystream**, a sequence of bits obtained from the key, typically applying a bitwise XOR operation. Due to the fact that bits can be seen as elements of GF(2), the inverse of the XOR operation is the XOR operation itself, then decryption is achieved by applying the same procedure to the ciphertext.[[1]](#references)\n",
    "\n",
    "To avoid to have a key that is as long as the plaintext/ciphertext, the keystream is typically produced using a **Pseudorandom Number Generators (PRNG)**, commonly based on **Linear Feedback Shift Registers (LFSR)**."
   ]
  },
  {
   "cell_type": "markdown",
   "id": "fb6c6d09",
   "metadata": {},
   "source": [
    "![Stream Cipher general structure](../Report%20Images/stream%20cipher.jpg)"
   ]
  },
  {
   "cell_type": "markdown",
   "id": "5b263c05",
   "metadata": {},
   "source": [
    "In this notebook one will see the implementation of an LFSR together with the application of the Berlekamp-Massey algorithm to break it. Eventually a Shrinking Generator will be constructed."
   ]
  },
  {
   "cell_type": "markdown",
   "id": "149f9e72",
   "metadata": {},
   "source": [
    "## LFSR"
   ]
  },
  {
   "cell_type": "markdown",
   "id": "710a7cf5",
   "metadata": {},
   "source": [
    "A **Linear Feedback Shift Register (LFSR)** is a widely used component in cryptographic systems to generate pseudorandom binary sequences. It consists of a shift register whose input bit is determined by a linear combination of its previous state: this combination is performed using a **feedback function**, typically encoded as a polynomial, that selects certain state bits to be XORed together and fed back into the register. The output sequence is always **periodic** and its period depends only on the structure of the LFSR. As different LFSRs can produce identical sequences, the optimal design prioritizes the shortest register length in order to reduce power consumption and area. [[2]](#references)"
   ]
  },
  {
   "cell_type": "markdown",
   "id": "68afde73",
   "metadata": {},
   "source": [
    "![Linear Feedback Shift Regsiter general structure](../Report%20Images/lfsr.jpg)"
   ]
  },
  {
   "cell_type": "markdown",
   "id": "3bbb6668",
   "metadata": {},
   "source": [
    "### LFSR implementation"
   ]
  },
  {
   "cell_type": "markdown",
   "id": "ebd5aaf2",
   "metadata": {},
   "source": [
    "An LFSR with feedback polynomial `[4, 1, 0]` is defined to test the functionalities of the class. The latter is characterized by:\n",
    "- Attributes:\n",
    "    - *poly*: feedback polynomial\n",
    "    - *state*: current state\n",
    "    - *output*: current output bit value\n",
    "    - *feedback*: current feedback bit value\n",
    "- Methods:\n",
    "    - *new_iteration*: compute a new_iteration of the LFSR, updating state and output\n",
    "    - *\\_\\_iter\\_\\_* and *\\_\\_next\\_\\_*: set up the iterator\n",
    "    - *run_steps*: compute the output sequence corresponding to the next N iterations\n",
    "    - *cycle*: returns the output sequence constituting a period of the LFSR\n",
    "    - *\\_\\_str\\_\\_*: provides a description of the LFSR (feedback polynomial, LFSR length and current state)"
   ]
  },
  {
   "cell_type": "code",
   "execution_count": 2,
   "id": "6be05e00",
   "metadata": {},
   "outputs": [
    {
     "name": "stdout",
     "output_type": "stream",
     "text": [
      "\n",
      "Feedback polynomial: [0, 1, 4]\n",
      "LFSR length: 4            \n",
      "Current state: b'\\x0f'\n",
      "\n",
      "Cycle completed. 15 elements\n",
      "[1, 1, 1, 1, 0, 1, 0, 1, 1, 0, 0, 1, 0, 0, 0]\n",
      "\n",
      "6 iterations of the LFSR have been computed\n",
      "[1, 1, 1, 1, 0, 1]\n",
      "\n",
      "Feedback polynomial: [0, 1, 4]\n",
      "LFSR length: 4            \n",
      "Current state: b'\\x06'\n",
      "0\n",
      "1\n",
      "1\n",
      "0\n",
      "0\n",
      "1\n",
      "0\n",
      "0\n",
      "0\n",
      "1\n",
      "LFSR polynomial: [0, 1, 4],     \n",
      "LFSR current state: b'\\x0b',     \n",
      "LFSR current output bit: 1,     \n",
      "LFSR current feedback bit: 1\n"
     ]
    }
   ],
   "source": [
    "lfsr = LFSR([4, 1, 0])\n",
    "# Check whether the LFSR was properly set\n",
    "lfsr.__str__()\n",
    "# Compute a period\n",
    "print(lfsr.cycle())\n",
    "# Compute 6 iterations\n",
    "print(lfsr.run_steps(6))\n",
    "# See how the internal state of the LFSR has changed\n",
    "lfsr.__str__()\n",
    "# Check the iterator functionality\n",
    "for n, b in enumerate(lfsr):\n",
    "    if n == 10:\n",
    "        break\n",
    "    print(b)\n",
    "# Check the LFSR attributes\n",
    "print(f'LFSR polynomial: {lfsr.poly}, \\\n",
    "    \\nLFSR current state: {lfsr.state}, \\\n",
    "    \\nLFSR current output bit: {lfsr.output}, \\\n",
    "    \\nLFSR current feedback bit: {lfsr.feedback}')\n"
   ]
  },
  {
   "cell_type": "markdown",
   "id": "0f5f9c4e",
   "metadata": {},
   "source": [
    "## Berlekamp Massey"
   ]
  },
  {
   "cell_type": "markdown",
   "id": "2a745f78",
   "metadata": {},
   "source": [
    "Despite appearing to have good properties, both in terms of output sequence randomicity and of hardware implementation, the LFSR cannot be used as is for random number generation in cryptosystems because of the existance of the **Berlekamp-Massey algorithm**: the latter, given enough keystream bits, can provide the shortest LFSR able to produce the LFSR output sequence. [[3]](#references)\n",
    "\n",
    "During a **Known Plaintext Attack**, the eavesdropper can compute the keystream bits from the observed plaintext and ciphertext bits, then apply the Berlekamp-Massey algorithm to infer the LFSR feedback polynomial and eventually its initial state. At this point the attacker can compute the entire keystream and decrypt the ciphertext"
   ]
  },
  {
   "cell_type": "markdown",
   "id": "661ac806",
   "metadata": {},
   "source": [
    "### Algorithm testing"
   ]
  },
  {
   "cell_type": "markdown",
   "id": "c3400ce8",
   "metadata": {},
   "source": [
    "In the following step the implementation of Berlekamp-Massey Algorithm will be tested providing as input the sequences produced by the following LFSR:\n",
    "- `poly = [3, 1, 0]` and `state = '\\x06'`\n",
    "- `poly = [5, 2, 1, 0]` and `state = '\\x05'`\n",
    "- `poly = [96, 81, 17, 15, 0]` and `state = b'streamcipher'`"
   ]
  },
  {
   "cell_type": "code",
   "execution_count": 3,
   "id": "d18d3dda",
   "metadata": {},
   "outputs": [
    {
     "name": "stdout",
     "output_type": "stream",
     "text": [
      "\n",
      "Cycle completed. 7 elements\n",
      "The shortest LFSR able to produce the provided sequence is [0, 1, 3]\n"
     ]
    }
   ],
   "source": [
    "lfsr = LFSR([3, 1, 0], b'\\x06')\n",
    "bit_sequence = lfsr.cycle()\n",
    "# print(bit_sequence)\n",
    "shortest_LFSR = berlekamp_massey(bit_sequence)\n",
    "print(f'The shortest LFSR able to produce the provided sequence is {shortest_LFSR}')"
   ]
  },
  {
   "cell_type": "code",
   "execution_count": 4,
   "id": "fc06f0e4",
   "metadata": {},
   "outputs": [
    {
     "name": "stdout",
     "output_type": "stream",
     "text": [
      "\n",
      "Cycle completed. 7 elements\n",
      "The shortest LFSR able to produce the provided sequence is [0, 1, 3]\n"
     ]
    }
   ],
   "source": [
    "# This polynomial is not irreducible, so we expect as output a shorter polynomial\n",
    "lfsr = LFSR([1, 5, 2, 0], b'\\x05')\n",
    "bit_sequence = lfsr.cycle()\n",
    "# print(bit_sequence)\n",
    "shortest_LFSR = berlekamp_massey(bit_sequence)\n",
    "print(f'The shortest LFSR able to produce the provided sequence is {shortest_LFSR}')"
   ]
  },
  {
   "cell_type": "code",
   "execution_count": 5,
   "id": "3c337c61",
   "metadata": {},
   "outputs": [
    {
     "name": "stdout",
     "output_type": "stream",
     "text": [
      "\n",
      "190 iterations of the LFSR have been computed\n",
      "The shortest LFSR able to produce the provided sequence is [0, 15, 17, 81, 95]\n"
     ]
    }
   ],
   "source": [
    "lfsr = LFSR([0, 17, 81, 15, 95], b'streamcipher')\n",
    "# The cycle takes too long to be computed. For time reasons the provided \n",
    "# sequence is made of the minimum amount of bits hat allows to correctly guess\n",
    "# the LFSR feedback polynomial\n",
    "bit_sequence = lfsr.run_steps(190)\n",
    "# print(bit_sequence)\n",
    "shortest_LFSR = berlekamp_massey(bit_sequence)\n",
    "print(f'The shortest LFSR able to produce the provided sequence is {shortest_LFSR}')"
   ]
  },
  {
   "cell_type": "markdown",
   "id": "71170711",
   "metadata": {},
   "source": [
    "Load `'binary_sequence'` (the result is a `bytes` type variable) and apply Berlekamp-Massey algorithm to find the polynomial corresponding to the shortest LFSR that can produce that sequence."
   ]
  },
  {
   "cell_type": "code",
   "execution_count": 6,
   "id": "42256487",
   "metadata": {},
   "outputs": [
    {
     "name": "stdout",
     "output_type": "stream",
     "text": [
      "The shortest LFSR able to produce the provided sequence is [0, 2, 9, 12, 13, 14, 16]\n"
     ]
    }
   ],
   "source": [
    "with open('binary_sequence.bin', 'rb') as f:\n",
    "    bit_sequence = f.read()\n",
    "bit_sequence = streamcipher.bytes_to_bool_list(bit_sequence)\n",
    "# print(bit_sequence)\n",
    "shortest_LFSR = berlekamp_massey(bit_sequence)\n",
    "print(f'The shortest LFSR able to produce the provided sequence is {shortest_LFSR}')"
   ]
  },
  {
   "cell_type": "markdown",
   "id": "11f7dd2d",
   "metadata": {},
   "source": [
    "## LFSR-based Generators"
   ]
  },
  {
   "cell_type": "code",
   "execution_count": 7,
   "id": "7ded17ed",
   "metadata": {},
   "outputs": [
    {
     "data": {
      "text/plain": [
       "0"
      ]
     },
     "execution_count": 7,
     "metadata": {},
     "output_type": "execute_result"
    }
   ],
   "source": [
    "# Convert the group name into a 'bytes' variable.\n",
    "# If the parity bit is 0 implement a shrinking generator, otherwise\n",
    "# implement a self-shrinkin generator\n",
    "group_name = b'CipherCrafters'\n",
    "group_name_bits = streamcipher.bytes_to_bool_list(group_name)\n",
    "parity_bit = reduce(xor, group_name_bits)\n",
    "parity_bit"
   ]
  },
  {
   "cell_type": "markdown",
   "id": "25428fdc",
   "metadata": {},
   "source": [
    "### Shrinking Generator"
   ]
  },
  {
   "cell_type": "markdown",
   "id": "e12e16b6",
   "metadata": {},
   "source": [
    "Utilizing LFSRs as individual PRNGs is unsecure since they can be broken using Berlekamp-Massey algorithm. However, they serve as foundational components for more robust generators like the **Shrinking Generator** [[4]](#references). The latter, that belongs to the **Alternating Clocking Generator** family, is made of three key elements:\n",
    "\n",
    "- LFSR_A: Generates potential keystream bits.\n",
    "- LFSR_S: Determines whether bits from LFSR_A are retained or discarded.\n",
    "- FIFO: Maintains a regular output rate by sampling LFSR_A bits only when LFSR_S produces a 1. As LFSR_S generates a pseudo-random sequence, in average half of LFSR_A's output bits are preserved while the other half are discarded. Consequently, the FIFO operates at half the frequency of the LFSRs."
   ]
  },
  {
   "cell_type": "markdown",
   "id": "13198006",
   "metadata": {
    "tags": []
   },
   "source": [
    "#### Test the Shrinking Generator class"
   ]
  },
  {
   "cell_type": "markdown",
   "id": "da767808",
   "metadata": {},
   "source": [
    "A shrinking Generator with the specifications written below is defined to test the functionalities of the class. The latter is characterized by:\n",
    "- Attributes:\n",
    "    - *lfsrA* and *lfsrS*: the two LFSRs of the generator, defined as instances of the LFSR class\n",
    "    - *output*: current output bit value\n",
    "- Methods:\n",
    "    - *new_iteration*: computes an iteration of the generator\n",
    "    - *\\_\\_iter\\_\\_* and *\\_\\_next\\_\\_*:set up the iterator\n",
    "    - *run_steps*: returns the output sequence corresponding to N iterations "
   ]
  },
  {
   "cell_type": "code",
   "execution_count": 8,
   "id": "38f54c80-e3d5-4a07-9038-be586d981db9",
   "metadata": {},
   "outputs": [
    {
     "name": "stdout",
     "output_type": "stream",
     "text": [
      "\n",
      "Feedback polynomial: [0, 2, 5]\n",
      "LFSR length: 5            \n",
      "Current state: b'\\x06'\n",
      "\n",
      "Feedback polynomial: [0, 1, 3]\n",
      "LFSR length: 3            \n",
      "Current state: b'\\x05'\n",
      "\n",
      "20 iterations of the Shrinking Generator have been computed\n",
      "[0, 1, 0, 1, 1, 1, 0, 1, 1, 1, 1, 0, 0, 0, 1, 0, 1, 1, 1, 0]\n",
      "0\n",
      "None\n",
      "1\n",
      "None\n",
      "None\n",
      "Current output bit value: 1\n"
     ]
    }
   ],
   "source": [
    "# stateA = b'\\x06', stateS = b'\\x05'\n",
    "# polyA = [0, 2, 5], polyS = [0, 1, 3] <--- default polynomials if not specified\n",
    "sh_gen = ShrinkingGenerator(b'\\x06', b'\\x05')\n",
    "sh_gen.lfsrA.__str__()\n",
    "sh_gen.lfsrS.__str__()\n",
    "# Produce 20 \"valid\" outputs\n",
    "g_seq = sh_gen.run_steps(20)\n",
    "print(g_seq)\n",
    "for n, b in enumerate(sh_gen):\n",
    "    if n == 5:\n",
    "        break\n",
    "    print(b)\n",
    "print(f'Current output bit value: {sh_gen.output}')"
   ]
  },
  {
   "cell_type": "markdown",
   "id": "8d2b63d3",
   "metadata": {},
   "source": [
    "Use the Shrinking Generator with the following specifications to produce the keystream to decrypt the ciphertext in `ciphertext_shrinking.bin`"
   ]
  },
  {
   "cell_type": "code",
   "execution_count": 9,
   "id": "be3bbfe1-ed49-48f8-93b1-e38b730fc5bb",
   "metadata": {},
   "outputs": [],
   "source": [
    "polyA = [16, 15, 12, 10, 0]\n",
    "polyS = [24, 11, 5, 2, 0]\n",
    "stateA = b'\\xc5\\xd7'\n",
    "stateS = b'\\x14\\x84\\xf8'\n",
    "\n",
    "sh_gen = ShrinkingGenerator(stateA, stateS, polyA, polyS)"
   ]
  },
  {
   "cell_type": "code",
   "execution_count": 10,
   "id": "55126a94",
   "metadata": {},
   "outputs": [],
   "source": [
    "with open('ciphertext_shrinking.bin', 'rb') as f:\n",
    "    ciphertext_shrinking = f.read()"
   ]
  },
  {
   "cell_type": "code",
   "execution_count": 11,
   "id": "1f27a48f",
   "metadata": {},
   "outputs": [
    {
     "name": "stdout",
     "output_type": "stream",
     "text": [
      "\n",
      "4992 iterations of the Shrinking Generator have been computed\n",
      "b'The Shrinking Generator\\nDon Coppersmith, Hugo Krawczyk, Yishay Mansour\\nIBM T.J. Watson Research Center\\nYorktown Heights, NY 10598\\n\\nAbstract. We present a new construction of a pseudorandom generator based on a simple combination of two LFSRs. The construction bas attractive properties as simplicity (conceptual and implementation-wise), scalability (hardware and security), proven minimal security conditions (exponential period, exponential linear complexity, good statistical properties), and resistance to known attacks. The construction is suitable for practical implementation of efficient stream cipher cryptosystems.'\n"
     ]
    }
   ],
   "source": [
    "ciphertext_shrinking = streamcipher.bytes_to_bool_list(ciphertext_shrinking)\n",
    "\n",
    "# Produce as many keystream bits as ciphertext bits\n",
    "sh_seq = sh_gen.run_steps(len(ciphertext_shrinking))\n",
    "\n",
    "# Decryption consists of a bitwise XOR between ciphertext adn keystream\n",
    "shrinking_plaintext = [cipher ^ gen for cipher, gen in \n",
    "                       zip(ciphertext_shrinking, sh_seq)]\n",
    "\n",
    "shrinking_plaintext = streamcipher.bool_list_to_bytes(shrinking_plaintext)\n",
    "\n",
    "print(shrinking_plaintext)"
   ]
  },
  {
   "cell_type": "markdown",
   "id": "0fdca22c",
   "metadata": {
    "tags": []
   },
   "source": [
    "## Conclusion"
   ]
  },
  {
   "cell_type": "markdown",
   "id": "c0721b2a",
   "metadata": {},
   "source": [
    "This notebook goes into the details of Stream Ciphers, mainly focusing on the generation of keystreams using Pseudorandom Number Generators (PRNGs). Initially, we implemented a Linear Feedback Shift Register (LFSR), highlighting its characteristics and functionalities. Subsequently, we underscored its vulnerabilities, revealing its insecurity when employed as a standalone PRNG, being susceptible to the Berlekamp-Massey algorithm. Nonetheless, recognizing its utility in more intricate systems, we explored its potential in providing security when integrated into more complex PRNGs such as the Shrinking Generator. Eventually, the latter was implmeneted and used to successfully decrypt a given ciphertext."
   ]
  },
  {
   "cell_type": "markdown",
   "id": "461ff759",
   "metadata": {},
   "source": [
    "## References"
   ]
  },
  {
   "cell_type": "markdown",
   "id": "2368d30b",
   "metadata": {},
   "source": [
    "[1] [Stream Cipher](https://en.wikipedia.org/wiki/Stream_cipher)\n",
    "\n",
    "[2] [Linear Feedback Shift Register](https://en.wikipedia.org/wiki/Linear-feedback_shift_register)\n",
    "\n",
    "[3] [Berlekamp-Massey algorithm](https://en.wikipedia.org/wiki/Berlekamp%E2%80%93Massey_algorithm)\n",
    "\n",
    "[4] [Shrinking Generator](https://link.springer.com/chapter/10.1007/3-540-48329-2_3)"
   ]
  }
 ],
 "metadata": {
  "kernelspec": {
   "display_name": "Python 3 (ipykernel)",
   "language": "python",
   "name": "python3"
  },
  "language_info": {
   "codemirror_mode": {
    "name": "ipython",
    "version": 3
   },
   "file_extension": ".py",
   "mimetype": "text/x-python",
   "name": "python",
   "nbconvert_exporter": "python",
   "pygments_lexer": "ipython3",
   "version": "3.10.11"
  }
 },
 "nbformat": 4,
 "nbformat_minor": 5
}
