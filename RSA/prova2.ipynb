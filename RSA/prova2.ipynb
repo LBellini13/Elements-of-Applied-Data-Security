{
 "cells": [
  {
   "cell_type": "code",
   "execution_count": 4,
   "metadata": {},
   "outputs": [
    {
     "ename": "ValueError",
     "evalue": "Padding is incorrect.",
     "output_type": "error",
     "traceback": [
      "\u001b[0;31m---------------------------------------------------------------------------\u001b[0m",
      "\u001b[0;31mValueError\u001b[0m                                Traceback (most recent call last)",
      "Cell \u001b[0;32mIn[4], line 25\u001b[0m\n\u001b[1;32m     23\u001b[0m \u001b[38;5;66;03m# Decrypt AES-encrypted message\u001b[39;00m\n\u001b[1;32m     24\u001b[0m bob_aes \u001b[38;5;241m=\u001b[39m AES\u001b[38;5;241m.\u001b[39mnew(bob_aes_key, AES\u001b[38;5;241m.\u001b[39mMODE_CBC)\n\u001b[0;32m---> 25\u001b[0m dec_aes_plaintext \u001b[38;5;241m=\u001b[39m \u001b[43munpad\u001b[49m\u001b[43m(\u001b[49m\u001b[43mbob_aes\u001b[49m\u001b[38;5;241;43m.\u001b[39;49m\u001b[43mdecrypt\u001b[49m\u001b[43m(\u001b[49m\u001b[43maes_ciphertext\u001b[49m\u001b[43m)\u001b[49m\u001b[43m,\u001b[49m\u001b[43m \u001b[49m\u001b[43mAES\u001b[49m\u001b[38;5;241;43m.\u001b[39;49m\u001b[43mblock_size\u001b[49m\u001b[43m)\u001b[49m\u001b[38;5;241m.\u001b[39mdecode()\n\u001b[1;32m     27\u001b[0m \u001b[38;5;28;01mif\u001b[39;00m aes_plaintext \u001b[38;5;241m==\u001b[39m dec_aes_plaintext:\n\u001b[1;32m     28\u001b[0m     \u001b[38;5;28mprint\u001b[39m(\u001b[38;5;124m'\u001b[39m\u001b[38;5;124mEverything worked fine. Great job!\u001b[39m\u001b[38;5;124m'\u001b[39m)\n",
      "File \u001b[0;32m~/miniconda3/envs/data_security/lib/python3.10/site-packages/Crypto/Util/Padding.py:92\u001b[0m, in \u001b[0;36munpad\u001b[0;34m(padded_data, block_size, style)\u001b[0m\n\u001b[1;32m     90\u001b[0m padding_len \u001b[38;5;241m=\u001b[39m bord(padded_data[\u001b[38;5;241m-\u001b[39m\u001b[38;5;241m1\u001b[39m])\n\u001b[1;32m     91\u001b[0m \u001b[38;5;28;01mif\u001b[39;00m padding_len\u001b[38;5;241m<\u001b[39m\u001b[38;5;241m1\u001b[39m \u001b[38;5;129;01mor\u001b[39;00m padding_len\u001b[38;5;241m>\u001b[39m\u001b[38;5;28mmin\u001b[39m(block_size, pdata_len):\n\u001b[0;32m---> 92\u001b[0m     \u001b[38;5;28;01mraise\u001b[39;00m \u001b[38;5;167;01mValueError\u001b[39;00m(\u001b[38;5;124m\"\u001b[39m\u001b[38;5;124mPadding is incorrect.\u001b[39m\u001b[38;5;124m\"\u001b[39m)\n\u001b[1;32m     93\u001b[0m \u001b[38;5;28;01mif\u001b[39;00m style \u001b[38;5;241m==\u001b[39m \u001b[38;5;124m'\u001b[39m\u001b[38;5;124mpkcs7\u001b[39m\u001b[38;5;124m'\u001b[39m:\n\u001b[1;32m     94\u001b[0m     \u001b[38;5;28;01mif\u001b[39;00m padded_data[\u001b[38;5;241m-\u001b[39mpadding_len:]\u001b[38;5;241m!=\u001b[39mbchr(padding_len)\u001b[38;5;241m*\u001b[39mpadding_len:\n",
      "\u001b[0;31mValueError\u001b[0m: Padding is incorrect."
     ]
    }
   ],
   "source": [
    "from Crypto.Cipher import AES\n",
    "from Crypto.Util.Padding import pad, unpad\n",
    "import random\n",
    "from rsa import RSA\n",
    "\n",
    "# Generate AES key for Alice\n",
    "alice_aes_key = random.randbytes(16)  # AES key length for AES-128\n",
    "\n",
    "# Generate RSA keys for Bob\n",
    "bob_rsa = RSA(length=512)\n",
    "\n",
    "# Alice encrypts AES key with Bob's RSA public key\n",
    "encrypted_aes_key = bob_rsa.encrypt(alice_aes_key)\n",
    "\n",
    "# Encryption and Decryption using AES\n",
    "aes_plaintext = \"Hello, Bob!\"\n",
    "alice_aes = AES.new(alice_aes_key, AES.MODE_CBC)\n",
    "aes_ciphertext = alice_aes.encrypt(pad(aes_plaintext.encode(), AES.block_size))\n",
    "\n",
    "# Bob decrypts AES key with his RSA private key\n",
    "bob_aes_key = bob_rsa.decrypt(encrypted_aes_key)\n",
    "\n",
    "# Decrypt AES-encrypted message\n",
    "bob_aes = AES.new(bob_aes_key, AES.MODE_CBC)\n",
    "dec_aes_plaintext = unpad(bob_aes.decrypt(aes_ciphertext), AES.block_size).decode()\n",
    "\n",
    "if aes_plaintext == dec_aes_plaintext:\n",
    "    print('Everything worked fine. Great job!')\n",
    "else:\n",
    "    print('Something went wrong. Check your implementation')\n"
   ]
  },
  {
   "cell_type": "code",
   "execution_count": 5,
   "metadata": {},
   "outputs": [
    {
     "name": "stdout",
     "output_type": "stream",
     "text": [
      "Original plaintext: Hello, world!\n",
      "Decrypted plaintext: Hello, world!\n"
     ]
    }
   ],
   "source": [
    "from Crypto.Cipher import AES\n",
    "from Crypto.Random import get_random_bytes\n",
    "from Crypto.Util.Padding import pad, unpad\n",
    "\n",
    "# Define AES key and initialization vector (IV)\n",
    "key = get_random_bytes(16)  # 16 bytes for AES-128\n",
    "iv = get_random_bytes(16)   # IV should be the same length as the block size (16 bytes for AES)\n",
    "\n",
    "# Create AES cipher object\n",
    "cipher = AES.new(key, AES.MODE_CBC, iv)\n",
    "\n",
    "# Encrypt plaintext\n",
    "plaintext = \"Hello, world!\"\n",
    "plaintext_bytes = plaintext.encode('utf-8')\n",
    "ciphertext_bytes = cipher.encrypt(pad(plaintext_bytes, AES.block_size))\n",
    "\n",
    "# Decrypt ciphertext\n",
    "decipher = AES.new(key, AES.MODE_CBC, iv)\n",
    "decrypted_bytes = unpad(decipher.decrypt(ciphertext_bytes), AES.block_size)\n",
    "decrypted_plaintext = decrypted_bytes.decode('utf-8')\n",
    "\n",
    "print(\"Original plaintext:\", plaintext)\n",
    "print(\"Decrypted plaintext:\", decrypted_plaintext)\n"
   ]
  }
 ],
 "metadata": {
  "kernelspec": {
   "display_name": "data_security",
   "language": "python",
   "name": "python3"
  },
  "language_info": {
   "codemirror_mode": {
    "name": "ipython",
    "version": 3
   },
   "file_extension": ".py",
   "mimetype": "text/x-python",
   "name": "python",
   "nbconvert_exporter": "python",
   "pygments_lexer": "ipython3",
   "version": "3.10.11"
  }
 },
 "nbformat": 4,
 "nbformat_minor": 2
}
