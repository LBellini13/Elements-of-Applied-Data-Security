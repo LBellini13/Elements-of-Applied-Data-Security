{
 "cells": [
  {
   "cell_type": "code",
   "execution_count": 30,
   "metadata": {},
   "outputs": [
    {
     "name": "stdout",
     "output_type": "stream",
     "text": [
      "b'\\x83\\xcd\\xf2\\xbd\\x0c\\x0e\\xfa\\xc8EL\\x90K'\n"
     ]
    }
   ],
   "source": [
    "def KSA(key):\n",
    "    key_length = len(key)\n",
    "    S = list(range(256))\n",
    "    j = 0\n",
    "    for i in range(256):\n",
    "        j = (j + S[i] + key[i % key_length]) % 256\n",
    "        S[i], S[j] = S[j], S[i]  # swap\n",
    "    return S\n",
    "\n",
    "def PRGA(S, drop):\n",
    "    i = 0\n",
    "    j = 0\n",
    "    keystream = []\n",
    "    for _ in range(drop):\n",
    "        i = (i + 1) % 256\n",
    "        j = (j + S[i]) % 256\n",
    "        S[i], S[j] = S[j], S[i]  # swap\n",
    "    for _ in range(12):  # Generate 300 bytes of keystream\n",
    "        i = (i + 1) % 256\n",
    "        j = (j + S[i]) % 256\n",
    "        S[i], S[j] = S[j], S[i]  # swap\n",
    "        keystream_byte = S[(S[i] + S[j]) % 256]\n",
    "        keystream.append(keystream_byte)\n",
    "    return bytes(keystream)\n",
    "\n",
    "key = b'0123456789ABCDEF'\n",
    "S = KSA(list(key))\n",
    "keystream = PRGA(S, 768)\n",
    "print(keystream)\n"
   ]
  },
  {
   "cell_type": "code",
   "execution_count": 31,
   "metadata": {},
   "outputs": [
    {
     "name": "stdout",
     "output_type": "stream",
     "text": [
      "12\n",
      "b'\\xeb\\xa8\\x9e\\xd1c.\\x8d\\xa77 \\xf4j'\n"
     ]
    }
   ],
   "source": [
    "plaintext = b'hello world!'\n",
    "print(len(plaintext))\n",
    "\n",
    "ciphertext = bytes([pb ^ kb for pb, kb in zip(plaintext, keystream)])\n",
    "\n",
    "# bob = RC4(key, drop)\n",
    "\n",
    "# ciphertext = alice.encrypt(plaintext)\n",
    "# plaintext_2 = bob.decrypt(ciphertext)\n",
    "\n",
    "print(ciphertext)\n",
    "# print(plaintext_2)"
   ]
  }
 ],
 "metadata": {
  "kernelspec": {
   "display_name": "data_security",
   "language": "python",
   "name": "python3"
  },
  "language_info": {
   "codemirror_mode": {
    "name": "ipython",
    "version": 3
   },
   "file_extension": ".py",
   "mimetype": "text/x-python",
   "name": "python",
   "nbconvert_exporter": "python",
   "pygments_lexer": "ipython3",
   "version": "3.12.3"
  }
 },
 "nbformat": 4,
 "nbformat_minor": 2
}
