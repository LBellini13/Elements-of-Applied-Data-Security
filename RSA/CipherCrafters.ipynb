{
 "cells": [
  {
   "cell_type": "code",
   "execution_count": 1,
   "metadata": {},
   "outputs": [
    {
     "name": "stderr",
     "output_type": "stream",
     "text": [
      "/home/asterix/Elements-of-Applied-Data-Security/RSA/rsa.py:48: SyntaxWarning: invalid escape sequence '\\p'\n",
      "  print(f'x^q\\p = {y}')\n",
      "/home/asterix/Elements-of-Applied-Data-Security/RSA/rsa.py:53: SyntaxWarning: invalid escape sequence '\\p'\n",
      "  print(f'y^2\\p = {y}')\n"
     ]
    }
   ],
   "source": [
    "from rsa import ExtendedEuclideanAlgorithm, SquareAndMultiply, MillerRabin#, RSA"
   ]
  },
  {
   "cell_type": "markdown",
   "metadata": {},
   "source": [
    "# RSA"
   ]
  },
  {
   "cell_type": "markdown",
   "metadata": {},
   "source": [
    "## Extended Euclidean Algorithm"
   ]
  },
  {
   "cell_type": "code",
   "execution_count": 2,
   "metadata": {},
   "outputs": [
    {
     "name": "stdout",
     "output_type": "stream",
     "text": [
      "The GCD of 60 and 39 is 3\n",
      "s = 2 and t = -3 are the values so that sa + tm = gcd(a, m), indeed 2*60 + -3*39 = 3\n",
      "\n",
      "The GCD of 2560945 and 98714510 is 5\n",
      "s = 4135267 and t = -107281 are the values so that sa + tm = gcd(a, m), indeed 4135267*2560945 + -107281*98714510 = 5\n"
     ]
    }
   ],
   "source": [
    "a = 60\n",
    "m = 39\n",
    "gcd, s, t = ExtendedEuclideanAlgorithm(a, m)\n",
    "print(f'The GCD of {a} and {m} is {gcd}')\n",
    "print(f's = {int(s)} and t = {int(t)} are the values so that sa + tm = gcd(a, m),'\\\n",
    "        f' indeed {int(s)}*{a} + {int(t)}*{m} = {gcd}\\n')\n",
    "\n",
    "a = 2560945\n",
    "m = 98714510\n",
    "gcd, s, t = ExtendedEuclideanAlgorithm(a, m)\n",
    "print(f'The GCD of {a} and {m} is {gcd}')\n",
    "print(f's = {int(s)} and t = {int(t)} are the values so that sa + tm = gcd(a, m),'\\\n",
    "        f' indeed {int(s)}*{a} + {int(t)}*{m} = {gcd}')\n"
   ]
  },
  {
   "cell_type": "markdown",
   "metadata": {},
   "source": [
    "## Square and Multiply"
   ]
  },
  {
   "cell_type": "code",
   "execution_count": 3,
   "metadata": {},
   "outputs": [
    {
     "name": "stdout",
     "output_type": "stream",
     "text": [
      "x^e \\ n = 16\n"
     ]
    }
   ],
   "source": [
    "x = 2\n",
    "e = 4\n",
    "n = 100\n",
    "y = SquareAndMultiply(x, e, n)\n",
    "print(f'x^e \\\\ n = {y}')"
   ]
  },
  {
   "cell_type": "markdown",
   "metadata": {},
   "source": [
    "## Miller Rabin Primality Test"
   ]
  },
  {
   "cell_type": "code",
   "execution_count": 36,
   "metadata": {},
   "outputs": [
    {
     "name": "stdout",
     "output_type": "stream",
     "text": [
      "q = 30175, r = 1\n",
      "x = 1514\n",
      "x^q\\p = 38720\n",
      "y^2\\p = 59209\n",
      "60351 is not a prime number\n"
     ]
    }
   ],
   "source": [
    "# n = 6701531651\n",
    "# isprime = MillerRabin(n, 1000)\n",
    "# if isprime:\n",
    "#     print(f'{n} is probably a prime number')\n",
    "# else:\n",
    "#     print(f'{n} is not a prime number')\n",
    "\n",
    "# n = 1962443363\n",
    "# isprime = MillerRabin(n, 1000)\n",
    "# if isprime:\n",
    "#     print(f'{n} is probably a prime number')\n",
    "# else:\n",
    "#     print(f'{n} is not a prime number') \n",
    "\n",
    "# n = 786398548\n",
    "# isprime = MillerRabin(n, 1000)\n",
    "# if isprime:\n",
    "#     print(f'{n} is probably a prime number')\n",
    "# else:\n",
    "#     print(f'{n} is not a prime number')\n",
    "\n",
    "n = 60351\n",
    "isprime = MillerRabin(n, 1000000000)\n",
    "if isprime:\n",
    "    print(f'{n} is probably a prime number')\n",
    "else:\n",
    "    print(f'{n} is not a prime number')"
   ]
  }
 ],
 "metadata": {
  "kernelspec": {
   "display_name": "data_security",
   "language": "python",
   "name": "python3"
  },
  "language_info": {
   "codemirror_mode": {
    "name": "ipython",
    "version": 3
   },
   "file_extension": ".py",
   "mimetype": "text/x-python",
   "name": "python",
   "nbconvert_exporter": "python",
   "pygments_lexer": "ipython3",
   "version": "3.12.3"
  }
 },
 "nbformat": 4,
 "nbformat_minor": 2
}
