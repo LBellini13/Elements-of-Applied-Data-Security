{
 "cells": [
  {
   "cell_type": "code",
   "execution_count": 1,
   "metadata": {},
   "outputs": [],
   "source": [
    "from rsa import ExtendedEuclideanAlgorithm, SquareAndMultiply, MillerRabin, RSA\n",
    "import sympy\n",
    "import random"
   ]
  },
  {
   "cell_type": "markdown",
   "metadata": {},
   "source": [
    "# RSA"
   ]
  },
  {
   "cell_type": "markdown",
   "metadata": {},
   "source": [
    "## Extended Euclidean Algorithm"
   ]
  },
  {
   "cell_type": "code",
   "execution_count": 2,
   "metadata": {},
   "outputs": [
    {
     "name": "stdout",
     "output_type": "stream",
     "text": [
      "The GCD of 60 and 39 is 3\n",
      "s = 2 and t = -3 are the values so that sa + tm = gcd(a, m), indeed 2*60 + -3*39 = 3\n",
      "\n",
      "The GCD of 2560945 and 98714510 is 5\n",
      "s = 4135267 and t = -107281 are the values so that sa + tm = gcd(a, m), indeed (4135267*2560945) + (-107281*98714510) = 5\n"
     ]
    }
   ],
   "source": [
    "a = 60\n",
    "m = 39\n",
    "gcd, s, t = ExtendedEuclideanAlgorithm(a, m)\n",
    "print(f'The GCD of {a} and {m} is {gcd}')\n",
    "print(f's = {int(s)} and t = {int(t)} are the values so that sa + tm = gcd(a, m),'\\\n",
    "        f' indeed {int(s)}*{a} + {int(t)}*{m} = {gcd}\\n')\n",
    "\n",
    "a = 2560945\n",
    "m = 98714510\n",
    "gcd, s, t = ExtendedEuclideanAlgorithm(a, m)\n",
    "print(f'The GCD of {a} and {m} is {gcd}')\n",
    "print(f's = {int(s)} and t = {int(t)} are the values so that sa + tm = gcd(a, m),'\\\n",
    "        f' indeed ({int(s)}*{a}) + ({int(t)}*{m}) = {gcd}')\n"
   ]
  },
  {
   "cell_type": "markdown",
   "metadata": {},
   "source": [
    "## Square and Multiply"
   ]
  },
  {
   "cell_type": "code",
   "execution_count": 3,
   "metadata": {},
   "outputs": [
    {
     "name": "stdout",
     "output_type": "stream",
     "text": [
      "x^e \\ n = 1125640169675\n"
     ]
    }
   ],
   "source": [
    "base = 37698758869856746535\n",
    "exp = 6779867098797687\n",
    "mod = 7867897656356\n",
    "y = SquareAndMultiply(base, exp, mod)\n",
    "print(f'x^e \\\\ n = {y}')"
   ]
  },
  {
   "cell_type": "markdown",
   "metadata": {},
   "source": [
    "## Miller Rabin Primality Test"
   ]
  },
  {
   "cell_type": "code",
   "execution_count": 4,
   "metadata": {},
   "outputs": [
    {
     "name": "stdout",
     "output_type": "stream",
     "text": [
      "6701531651 is probably a prime number\n",
      "1962443363 is probably a prime number\n",
      "786398548 is not a prime number\n",
      "161860682384236698774917023853734785426608423 is not a prime number\n"
     ]
    }
   ],
   "source": [
    "n = 6701531651\n",
    "isprime = MillerRabin(n, 1000)\n",
    "if isprime:\n",
    "    print(f'{n} is probably a prime number')\n",
    "else:\n",
    "    print(f'{n} is not a prime number')\n",
    "\n",
    "n = 1962443363\n",
    "isprime = MillerRabin(n, 1000)\n",
    "if isprime:\n",
    "    print(f'{n} is probably a prime number')\n",
    "else:\n",
    "    print(f'{n} is not a prime number') \n",
    "\n",
    "n = 786398548\n",
    "isprime = MillerRabin(n, 1000)\n",
    "if isprime:\n",
    "    print(f'{n} is probably a prime number')\n",
    "else:\n",
    "    print(f'{n} is not a prime number')\n",
    "\n",
    "# n = product of 3 big prime numbers\n",
    "n = 735495555426839*587000395258763*374906457293939\n",
    "isprime = MillerRabin(n, 1000)\n",
    "if isprime:\n",
    "    print(f'{n} is probably a prime number')\n",
    "else:\n",
    "    print(f'{n} is not a prime number')\n",
    "\n"
   ]
  },
  {
   "cell_type": "markdown",
   "metadata": {},
   "source": [
    "## RSA implementation testing"
   ]
  },
  {
   "cell_type": "code",
   "execution_count": 5,
   "metadata": {},
   "outputs": [
    {
     "name": "stdout",
     "output_type": "stream",
     "text": [
      "BOB\n",
      "p = 19040818273363046003, q = 33153961270186219157, n = 631278551587732464960146165791630879471, m: 631278551587732464907951386248081614312, e = 3, d = 420852367725154979349093422860748193792,\n",
      "pub_key = (631278551587732464960146165791630879471, 3), priv key = (631278551587732464960146165791630879471, 420852367725154979349093422860748193792)\n",
      "\n",
      "ALICE\n",
      "n = 631278551587732464960146165791630879471, e = 3\n",
      "pub_key = (631278551587732464960146165791630879471, 3)\n",
      "\n",
      "The plaintext is: 3223\n",
      "The ciphertext is: 33479650567\n",
      "The decrypted plaintext is: 91155663897190593763762819531255634432\n"
     ]
    },
    {
     "ename": "KeyboardInterrupt",
     "evalue": "",
     "output_type": "error",
     "traceback": [
      "\u001b[0;31m---------------------------------------------------------------------------\u001b[0m",
      "\u001b[0;31mKeyboardInterrupt\u001b[0m                         Traceback (most recent call last)",
      "Cell \u001b[0;32mIn[5], line 24\u001b[0m\n\u001b[1;32m     20\u001b[0m \u001b[38;5;28mprint\u001b[39m(\u001b[38;5;124mf\u001b[39m\u001b[38;5;124m'\u001b[39m\u001b[38;5;124mThe decrypted plaintext is: \u001b[39m\u001b[38;5;132;01m{\u001b[39;00mdec_plaintext\u001b[38;5;132;01m}\u001b[39;00m\u001b[38;5;124m'\u001b[39m)\n\u001b[1;32m     22\u001b[0m \u001b[38;5;66;03m##### Full testing with random p and q and key length equal to 512 bits #####\u001b[39;00m\n\u001b[1;32m     23\u001b[0m \u001b[38;5;66;03m##### and byttes format for plaintext and ciphertext #####\u001b[39;00m\n\u001b[0;32m---> 24\u001b[0m bob \u001b[38;5;241m=\u001b[39m \u001b[43mRSA\u001b[49m\u001b[43m(\u001b[49m\u001b[43mlength\u001b[49m\u001b[43m \u001b[49m\u001b[38;5;241;43m=\u001b[39;49m\u001b[43m \u001b[49m\u001b[38;5;241;43m512\u001b[39;49m\u001b[43m)\u001b[49m\n\u001b[1;32m     25\u001b[0m \u001b[38;5;28mprint\u001b[39m(\u001b[38;5;124mf\u001b[39m\u001b[38;5;124m'\u001b[39m\u001b[38;5;130;01m\\n\u001b[39;00m\u001b[38;5;124mBOB\u001b[39m\u001b[38;5;130;01m\\n\u001b[39;00m\u001b[38;5;124mp = \u001b[39m\u001b[38;5;132;01m{\u001b[39;00mbob\u001b[38;5;241m.\u001b[39mp\u001b[38;5;132;01m}\u001b[39;00m\u001b[38;5;124m, q = \u001b[39m\u001b[38;5;132;01m{\u001b[39;00mbob\u001b[38;5;241m.\u001b[39mq\u001b[38;5;132;01m}\u001b[39;00m\u001b[38;5;124m, n = \u001b[39m\u001b[38;5;132;01m{\u001b[39;00mbob\u001b[38;5;241m.\u001b[39mn\u001b[38;5;132;01m}\u001b[39;00m\u001b[38;5;124m, m: \u001b[39m\u001b[38;5;132;01m{\u001b[39;00mbob\u001b[38;5;241m.\u001b[39mm\u001b[38;5;132;01m}\u001b[39;00m\u001b[38;5;124m, e = \u001b[39m\u001b[38;5;132;01m{\u001b[39;00mbob\u001b[38;5;241m.\u001b[39me\u001b[38;5;132;01m}\u001b[39;00m\u001b[38;5;124m, d = \u001b[39m\u001b[38;5;132;01m{\u001b[39;00mbob\u001b[38;5;241m.\u001b[39md\u001b[38;5;132;01m}\u001b[39;00m\u001b[38;5;124m,\u001b[39m\u001b[38;5;130;01m\\n\u001b[39;00m\u001b[38;5;124m'\u001b[39m\\\n\u001b[1;32m     26\u001b[0m       \u001b[38;5;124mf\u001b[39m\u001b[38;5;124m'\u001b[39m\u001b[38;5;124mpub_key = \u001b[39m\u001b[38;5;132;01m{\u001b[39;00mbob\u001b[38;5;241m.\u001b[39mpub_key\u001b[38;5;132;01m}\u001b[39;00m\u001b[38;5;124m, priv key = \u001b[39m\u001b[38;5;132;01m{\u001b[39;00mbob\u001b[38;5;241m.\u001b[39mpriv_key\u001b[38;5;132;01m}\u001b[39;00m\u001b[38;5;124m'\u001b[39m)\n\u001b[1;32m     27\u001b[0m alice \u001b[38;5;241m=\u001b[39m RSA(n \u001b[38;5;241m=\u001b[39m bob\u001b[38;5;241m.\u001b[39mpub_key[\u001b[38;5;241m0\u001b[39m], e \u001b[38;5;241m=\u001b[39m bob\u001b[38;5;241m.\u001b[39mpub_key[\u001b[38;5;241m1\u001b[39m])\n",
      "File \u001b[0;32m~/Elements-of-Applied-Data-Security/RSA/rsa.py:168\u001b[0m, in \u001b[0;36mRSA.__init__\u001b[0;34m(self, length, n, e, debug)\u001b[0m\n\u001b[1;32m    166\u001b[0m \u001b[38;5;28;01mif\u001b[39;00m length \u001b[38;5;129;01mis\u001b[39;00m \u001b[38;5;129;01mnot\u001b[39;00m \u001b[38;5;28;01mNone\u001b[39;00m:\n\u001b[1;32m    167\u001b[0m     \u001b[38;5;28mself\u001b[39m\u001b[38;5;241m.\u001b[39mlength \u001b[38;5;241m=\u001b[39m length\n\u001b[0;32m--> 168\u001b[0m     \u001b[38;5;28mself\u001b[39m\u001b[38;5;241m.\u001b[39mp, \u001b[38;5;28mself\u001b[39m\u001b[38;5;241m.\u001b[39mq, \u001b[38;5;28mself\u001b[39m\u001b[38;5;241m.\u001b[39mn, \u001b[38;5;28mself\u001b[39m\u001b[38;5;241m.\u001b[39mm \u001b[38;5;241m=\u001b[39m \u001b[38;5;28;43mself\u001b[39;49m\u001b[38;5;241;43m.\u001b[39;49m\u001b[43m_modulus\u001b[49m\u001b[43m(\u001b[49m\u001b[43m)\u001b[49m\n\u001b[1;32m    169\u001b[0m     \u001b[38;5;28mself\u001b[39m\u001b[38;5;241m.\u001b[39me, \u001b[38;5;28mself\u001b[39m\u001b[38;5;241m.\u001b[39md \u001b[38;5;241m=\u001b[39m \u001b[38;5;28mself\u001b[39m\u001b[38;5;241m.\u001b[39m_find_e_d()\n\u001b[1;32m    170\u001b[0m     \u001b[38;5;28mself\u001b[39m\u001b[38;5;241m.\u001b[39mpub_key \u001b[38;5;241m=\u001b[39m (\u001b[38;5;28mself\u001b[39m\u001b[38;5;241m.\u001b[39mn, \u001b[38;5;28mself\u001b[39m\u001b[38;5;241m.\u001b[39me)\n",
      "File \u001b[0;32m~/Elements-of-Applied-Data-Security/RSA/rsa.py:189\u001b[0m, in \u001b[0;36mRSA._modulus\u001b[0;34m(self)\u001b[0m\n\u001b[1;32m    187\u001b[0m n \u001b[38;5;241m=\u001b[39m \u001b[38;5;241m0\u001b[39m \n\u001b[1;32m    188\u001b[0m \u001b[38;5;28;01mwhile\u001b[39;00m n\u001b[38;5;241m.\u001b[39mbit_length() \u001b[38;5;241m!=\u001b[39m \u001b[38;5;28mself\u001b[39m\u001b[38;5;241m.\u001b[39mlength:\n\u001b[0;32m--> 189\u001b[0m     p \u001b[38;5;241m=\u001b[39m \u001b[38;5;28;43mself\u001b[39;49m\u001b[38;5;241;43m.\u001b[39;49m\u001b[43mdraw_random_prime_number\u001b[49m\u001b[43m(\u001b[49m\u001b[43m)\u001b[49m\n\u001b[1;32m    190\u001b[0m     q \u001b[38;5;241m=\u001b[39m \u001b[38;5;28mself\u001b[39m\u001b[38;5;241m.\u001b[39mdraw_random_prime_number()\n\u001b[1;32m    191\u001b[0m     \u001b[38;5;28;01mif\u001b[39;00m p \u001b[38;5;241m==\u001b[39m q:\n",
      "File \u001b[0;32m~/Elements-of-Applied-Data-Security/RSA/rsa.py:202\u001b[0m, in \u001b[0;36mRSA.draw_random_prime_number\u001b[0;34m(self)\u001b[0m\n\u001b[1;32m    200\u001b[0m \u001b[38;5;28;01mdef\u001b[39;00m \u001b[38;5;21mdraw_random_prime_number\u001b[39m(\u001b[38;5;28mself\u001b[39m):\n\u001b[1;32m    201\u001b[0m     n \u001b[38;5;241m=\u001b[39m random\u001b[38;5;241m.\u001b[39mgetrandbits(\u001b[38;5;28mself\u001b[39m\u001b[38;5;241m.\u001b[39mlength\u001b[38;5;241m/\u001b[39m\u001b[38;5;241m/\u001b[39m\u001b[38;5;241m2\u001b[39m)\n\u001b[0;32m--> 202\u001b[0m     \u001b[38;5;28;01mwhile\u001b[39;00m \u001b[38;5;129;01mnot\u001b[39;00m \u001b[43mMillerRabin\u001b[49m\u001b[43m(\u001b[49m\u001b[43mn\u001b[49m\u001b[43m,\u001b[49m\u001b[43m \u001b[49m\u001b[38;5;241;43m500\u001b[39;49m\u001b[43m)\u001b[49m:\n\u001b[1;32m    203\u001b[0m         n \u001b[38;5;241m=\u001b[39m random\u001b[38;5;241m.\u001b[39mgetrandbits(\u001b[38;5;28mself\u001b[39m\u001b[38;5;241m.\u001b[39mlength\u001b[38;5;241m/\u001b[39m\u001b[38;5;241m/\u001b[39m\u001b[38;5;241m2\u001b[39m)\n\u001b[1;32m    204\u001b[0m     \u001b[38;5;28;01mreturn\u001b[39;00m n\n",
      "File \u001b[0;32m~/Elements-of-Applied-Data-Security/RSA/rsa.py:113\u001b[0m, in \u001b[0;36mMillerRabin\u001b[0;34m(p, N)\u001b[0m\n\u001b[1;32m    111\u001b[0m x \u001b[38;5;241m=\u001b[39m random\u001b[38;5;241m.\u001b[39mrandint(\u001b[38;5;241m2\u001b[39m, p\u001b[38;5;241m-\u001b[39m\u001b[38;5;241m2\u001b[39m)\n\u001b[1;32m    112\u001b[0m \u001b[38;5;66;03m# print(f'x = {x}')\u001b[39;00m\n\u001b[0;32m--> 113\u001b[0m y \u001b[38;5;241m=\u001b[39m \u001b[43mSquareAndMultiply\u001b[49m\u001b[43m(\u001b[49m\u001b[43mx\u001b[49m\u001b[43m,\u001b[49m\u001b[43m \u001b[49m\u001b[43mq\u001b[49m\u001b[43m,\u001b[49m\u001b[43m \u001b[49m\u001b[43mp\u001b[49m\u001b[43m)\u001b[49m\n\u001b[1;32m    114\u001b[0m \u001b[38;5;66;03m# print(f'x^q\\\\p = {y}')\u001b[39;00m\n\u001b[1;32m    115\u001b[0m \u001b[38;5;28;01mif\u001b[39;00m y \u001b[38;5;241m==\u001b[39m \u001b[38;5;241m1\u001b[39m \u001b[38;5;129;01mor\u001b[39;00m y \u001b[38;5;241m==\u001b[39m p\u001b[38;5;241m-\u001b[39m\u001b[38;5;241m1\u001b[39m:\n",
      "File \u001b[0;32m~/Elements-of-Applied-Data-Security/RSA/rsa.py:71\u001b[0m, in \u001b[0;36mSquareAndMultiply\u001b[0;34m(base, exp, mod)\u001b[0m\n\u001b[1;32m     69\u001b[0m y \u001b[38;5;241m=\u001b[39m base\n\u001b[1;32m     70\u001b[0m \u001b[38;5;28;01mfor\u001b[39;00m ebit \u001b[38;5;129;01min\u001b[39;00m int_to_bits(exp)[\u001b[38;5;241m1\u001b[39m:]:\n\u001b[0;32m---> 71\u001b[0m     y \u001b[38;5;241m=\u001b[39m (\u001b[43my\u001b[49m\u001b[38;5;241;43m*\u001b[39;49m\u001b[38;5;241;43m*\u001b[39;49m\u001b[38;5;241;43m2\u001b[39;49m) \u001b[38;5;241m%\u001b[39m mod\n\u001b[1;32m     72\u001b[0m     \u001b[38;5;28;01mif\u001b[39;00m ebit:\n\u001b[1;32m     73\u001b[0m         y \u001b[38;5;241m=\u001b[39m (y\u001b[38;5;241m*\u001b[39mbase) \u001b[38;5;241m%\u001b[39m mod\n",
      "\u001b[0;31mKeyboardInterrupt\u001b[0m: "
     ]
    }
   ],
   "source": [
    "##### Testing of the RSA class #####\n",
    "# Key length is set to 5 per simplicty\n",
    "# Inside the class the instructions in the DEBUG branches are executed\n",
    "# Then p and q are equal to 3 and 11 respectively\n",
    "\n",
    "bob = RSA(length = 5, debug = True)\n",
    "print(f'BOB\\np = {bob.p}, q = {bob.q}, n = {bob.n}, m: {bob.m}, e = {bob.e}, d = {bob.d},\\n'\\\n",
    "      f'pub_key = {bob.pub_key}, priv key = {bob.priv_key}')\n",
    "\n",
    "alice = RSA(n = bob.pub_key[0], e = bob.pub_key[1], debug = True)\n",
    "print(f'\\nALICE\\nn = {alice.n}, e = {alice.e}\\n'\\\n",
    "      f'pub_key = {alice.pub_key}')\n",
    "\n",
    "# To simplify the debug process integers are used instead of bytes\n",
    "plaintext = 3223\n",
    "print(f'\\nThe plaintext is: {plaintext}')\n",
    "ciphertext = alice.encrypt(plaintext)\n",
    "print(f'The ciphertext is: {ciphertext}')\n",
    "dec_plaintext = bob.decrypt(ciphertext)\n",
    "print(f'The decrypted plaintext is: {dec_plaintext}')\n",
    "\n",
    "##### Full testing with random p and q and key length equal to 512 bits #####\n",
    "##### and byttes format for plaintext and ciphertext #####\n",
    "bob = RSA(length = 512)\n",
    "print(f'\\nBOB\\np = {bob.p}, q = {bob.q}, n = {bob.n}, m: {bob.m}, e = {bob.e}, d = {bob.d},\\n'\\\n",
    "      f'pub_key = {bob.pub_key}, priv key = {bob.priv_key}')\n",
    "alice = RSA(n = bob.pub_key[0], e = bob.pub_key[1])\n",
    "print(f'\\nALICE\\nn = {alice.n}, e = {alice.e}\\n'\\\n",
    "      f'pub_key = {alice.pub_key}')\n",
    "\n",
    "plaintext = random.randbytes(5)\n",
    "print(f'\\nThe plaintext is: {plaintext}')\n",
    "ciphertext = alice.encrypt(plaintext)\n",
    "print(f'The ciphertext is: {ciphertext}')\n",
    "dec_plaintext = bob.decrypt(ciphertext)\n",
    "print(f'The decrypted plaintext is: {dec_plaintext}')\n"
   ]
  },
  {
   "cell_type": "code",
   "execution_count": null,
   "metadata": {},
   "outputs": [
    {
     "name": "stdout",
     "output_type": "stream",
     "text": [
      "(631278551587732464960146165791630879471, 3)\n",
      "(631278551587732464960146165791630879471, 420852367725154976605300924165387742875)\n",
      "\n",
      "The plaintext is: 0x30313233343536373031323334353637\n",
      "The ciphertext is: 0x12366ac62e7b46d1a1f676a2b97d965d2\n",
      "The decrypted plaintext is: 0x30313233343536373031323334353637\n"
     ]
    }
   ],
   "source": [
    "bob = RSA(length = 512, debug = True)\n",
    "print(bob.pub_key)\n",
    "print(bob.priv_key)\n",
    "alice = RSA(n = bob.pub_key[0], e = bob.pub_key[1], debug = True)\n",
    "plaintext = 0x30313233343536373031323334353637\n",
    "print(f'\\nThe plaintext is: {hex(plaintext)}')\n",
    "ciphertext = alice.encrypt(plaintext)\n",
    "print(f'The ciphertext is: {hex(ciphertext)}')\n",
    "dec_plaintext = bob.decrypt(ciphertext)\n",
    "print(f'The decrypted plaintext is: {hex(dec_plaintext)}')"
   ]
  },
  {
   "cell_type": "code",
   "execution_count": null,
   "metadata": {},
   "outputs": [
    {
     "name": "stdout",
     "output_type": "stream",
     "text": [
      "p is prime\n",
      "q is prime\n"
     ]
    }
   ],
   "source": [
    "if sympy.isprime(bob.p):\n",
    "    print('p is prime')\n",
    "else:\n",
    "    print('p is not prime')\n",
    "\n",
    "if sympy.isprime(bob.q):\n",
    "    print('q is prime')\n",
    "else:\n",
    "    print('q is not prime')"
   ]
  }
 ],
 "metadata": {
  "kernelspec": {
   "display_name": "data_security",
   "language": "python",
   "name": "python3"
  },
  "language_info": {
   "codemirror_mode": {
    "name": "ipython",
    "version": 3
   },
   "file_extension": ".py",
   "mimetype": "text/x-python",
   "name": "python",
   "nbconvert_exporter": "python",
   "pygments_lexer": "ipython3",
   "version": "3.12.3"
  }
 },
 "nbformat": 4,
 "nbformat_minor": 2
}
