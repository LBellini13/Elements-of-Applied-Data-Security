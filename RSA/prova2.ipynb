{
 "cells": [
  {
   "cell_type": "code",
   "execution_count": 2,
   "metadata": {},
   "outputs": [
    {
     "ename": "KeyboardInterrupt",
     "evalue": "",
     "output_type": "error",
     "traceback": [
      "\u001b[0;31m---------------------------------------------------------------------------\u001b[0m",
      "\u001b[0;31mKeyboardInterrupt\u001b[0m                         Traceback (most recent call last)",
      "Cell \u001b[0;32mIn[2], line 10\u001b[0m\n\u001b[1;32m      7\u001b[0m alice_aes_key \u001b[38;5;241m=\u001b[39m random\u001b[38;5;241m.\u001b[39mrandbytes(AES\u001b[38;5;241m.\u001b[39mkey_size[\u001b[38;5;241m2\u001b[39m])\n\u001b[1;32m      9\u001b[0m \u001b[38;5;66;03m# Generate RSA keys for Bob\u001b[39;00m\n\u001b[0;32m---> 10\u001b[0m bob_rsa \u001b[38;5;241m=\u001b[39m \u001b[43mRSA\u001b[49m\u001b[43m(\u001b[49m\u001b[43mlength\u001b[49m\u001b[38;5;241;43m=\u001b[39;49m\u001b[38;5;241;43m2048\u001b[39;49m\u001b[43m)\u001b[49m\n\u001b[1;32m     12\u001b[0m \u001b[38;5;66;03m# Alice encrypts AES key with Bob's RSA public key\u001b[39;00m\n\u001b[1;32m     13\u001b[0m encrypted_aes_key \u001b[38;5;241m=\u001b[39m bob_rsa\u001b[38;5;241m.\u001b[39mencrypt(alice_aes_key)\n",
      "File \u001b[0;32m/mnt/SSD_SISTEMA/DATI/UNIVERSITÀ/ELECTRONICS/II° ANNO/II° SEMESTRE/Data Security/RSA/rsa.py:182\u001b[0m, in \u001b[0;36mRSA.__init__\u001b[0;34m(self, length, n, e, debug)\u001b[0m\n\u001b[1;32m    180\u001b[0m \u001b[38;5;28;01mif\u001b[39;00m length \u001b[38;5;129;01mis\u001b[39;00m \u001b[38;5;129;01mnot\u001b[39;00m \u001b[38;5;28;01mNone\u001b[39;00m:\n\u001b[1;32m    181\u001b[0m     \u001b[38;5;28mself\u001b[39m\u001b[38;5;241m.\u001b[39mlength \u001b[38;5;241m=\u001b[39m length\n\u001b[0;32m--> 182\u001b[0m \u001b[38;5;28mself\u001b[39m\u001b[38;5;241m.\u001b[39mp, \u001b[38;5;28mself\u001b[39m\u001b[38;5;241m.\u001b[39mq, \u001b[38;5;28mself\u001b[39m\u001b[38;5;241m.\u001b[39mn, \u001b[38;5;28mself\u001b[39m\u001b[38;5;241m.\u001b[39mm \u001b[38;5;241m=\u001b[39m \u001b[38;5;28;43mself\u001b[39;49m\u001b[38;5;241;43m.\u001b[39;49m\u001b[43m_modulus\u001b[49m\u001b[43m(\u001b[49m\u001b[43m)\u001b[49m\n\u001b[1;32m    183\u001b[0m \u001b[38;5;28mself\u001b[39m\u001b[38;5;241m.\u001b[39me, \u001b[38;5;28mself\u001b[39m\u001b[38;5;241m.\u001b[39md \u001b[38;5;241m=\u001b[39m \u001b[38;5;28mself\u001b[39m\u001b[38;5;241m.\u001b[39m_find_e_d()\n\u001b[1;32m    184\u001b[0m \u001b[38;5;28mself\u001b[39m\u001b[38;5;241m.\u001b[39mpub_key \u001b[38;5;241m=\u001b[39m (\u001b[38;5;28mself\u001b[39m\u001b[38;5;241m.\u001b[39mn, \u001b[38;5;28mself\u001b[39m\u001b[38;5;241m.\u001b[39me)\n",
      "File \u001b[0;32m/mnt/SSD_SISTEMA/DATI/UNIVERSITÀ/ELECTRONICS/II° ANNO/II° SEMESTRE/Data Security/RSA/rsa.py:206\u001b[0m, in \u001b[0;36mRSA._modulus\u001b[0;34m(self)\u001b[0m\n\u001b[1;32m    204\u001b[0m p \u001b[38;5;241m=\u001b[39m \u001b[38;5;28mself\u001b[39m\u001b[38;5;241m.\u001b[39m_draw_random_prime_number()\n\u001b[1;32m    205\u001b[0m \u001b[38;5;66;03m# print('DEBUG --> looking for q')\u001b[39;00m\n\u001b[0;32m--> 206\u001b[0m q \u001b[38;5;241m=\u001b[39m \u001b[38;5;28;43mself\u001b[39;49m\u001b[38;5;241;43m.\u001b[39;49m\u001b[43m_draw_random_prime_number\u001b[49m\u001b[43m(\u001b[49m\u001b[43m)\u001b[49m\n\u001b[1;32m    207\u001b[0m \u001b[38;5;28;01mif\u001b[39;00m p \u001b[38;5;241m==\u001b[39m q:\n\u001b[1;32m    208\u001b[0m     \u001b[38;5;28;01mcontinue\u001b[39;00m\n",
      "File \u001b[0;32m/mnt/SSD_SISTEMA/DATI/UNIVERSITÀ/ELECTRONICS/II° ANNO/II° SEMESTRE/Data Security/RSA/rsa.py:221\u001b[0m, in \u001b[0;36mRSA._draw_random_prime_number\u001b[0;34m(self)\u001b[0m\n\u001b[1;32m    219\u001b[0m \u001b[38;5;28;01mdef\u001b[39;00m \u001b[38;5;21m_draw_random_prime_number\u001b[39m(\u001b[38;5;28mself\u001b[39m):\n\u001b[1;32m    220\u001b[0m     n \u001b[38;5;241m=\u001b[39m random\u001b[38;5;241m.\u001b[39mgetrandbits(\u001b[38;5;28mself\u001b[39m\u001b[38;5;241m.\u001b[39mlength\u001b[38;5;241m/\u001b[39m\u001b[38;5;241m/\u001b[39m\u001b[38;5;241m2\u001b[39m)\n\u001b[0;32m--> 221\u001b[0m     \u001b[38;5;28;01mwhile\u001b[39;00m \u001b[38;5;129;01mnot\u001b[39;00m \u001b[43mMillerRabin\u001b[49m\u001b[43m(\u001b[49m\u001b[43mn\u001b[49m\u001b[43m,\u001b[49m\u001b[43m \u001b[49m\u001b[38;5;241;43m500\u001b[39;49m\u001b[43m)\u001b[49m:\n\u001b[1;32m    222\u001b[0m         n \u001b[38;5;241m=\u001b[39m random\u001b[38;5;241m.\u001b[39mgetrandbits(\u001b[38;5;28mself\u001b[39m\u001b[38;5;241m.\u001b[39mlength\u001b[38;5;241m/\u001b[39m\u001b[38;5;241m/\u001b[39m\u001b[38;5;241m2\u001b[39m)\n\u001b[1;32m    223\u001b[0m     \u001b[38;5;28;01mreturn\u001b[39;00m n\n",
      "File \u001b[0;32m/mnt/SSD_SISTEMA/DATI/UNIVERSITÀ/ELECTRONICS/II° ANNO/II° SEMESTRE/Data Security/RSA/rsa.py:120\u001b[0m, in \u001b[0;36mMillerRabin\u001b[0;34m(p, N)\u001b[0m\n\u001b[1;32m    118\u001b[0m x \u001b[38;5;241m=\u001b[39m random\u001b[38;5;241m.\u001b[39mrandint(\u001b[38;5;241m2\u001b[39m, p\u001b[38;5;241m-\u001b[39m\u001b[38;5;241m2\u001b[39m)\n\u001b[1;32m    119\u001b[0m \u001b[38;5;66;03m# print(f'x = {x}')\u001b[39;00m\n\u001b[0;32m--> 120\u001b[0m y \u001b[38;5;241m=\u001b[39m \u001b[43mSquareAndMultiply\u001b[49m\u001b[43m(\u001b[49m\u001b[43mx\u001b[49m\u001b[43m,\u001b[49m\u001b[43m \u001b[49m\u001b[43mq\u001b[49m\u001b[43m,\u001b[49m\u001b[43m \u001b[49m\u001b[43mp\u001b[49m\u001b[43m)\u001b[49m\n\u001b[1;32m    121\u001b[0m \u001b[38;5;66;03m# print(f'x^q\\\\p = {y}')\u001b[39;00m\n\u001b[1;32m    122\u001b[0m \u001b[38;5;28;01mif\u001b[39;00m y \u001b[38;5;241m==\u001b[39m \u001b[38;5;241m1\u001b[39m \u001b[38;5;129;01mor\u001b[39;00m y \u001b[38;5;241m==\u001b[39m p\u001b[38;5;241m-\u001b[39m\u001b[38;5;241m1\u001b[39m:\n",
      "File \u001b[0;32m/mnt/SSD_SISTEMA/DATI/UNIVERSITÀ/ELECTRONICS/II° ANNO/II° SEMESTRE/Data Security/RSA/rsa.py:73\u001b[0m, in \u001b[0;36mSquareAndMultiply\u001b[0;34m(base, exp, mod)\u001b[0m\n\u001b[1;32m     71\u001b[0m     y \u001b[38;5;241m=\u001b[39m (y\u001b[38;5;241m*\u001b[39m\u001b[38;5;241m*\u001b[39m\u001b[38;5;241m2\u001b[39m) \u001b[38;5;241m%\u001b[39m mod\n\u001b[1;32m     72\u001b[0m     \u001b[38;5;28;01mif\u001b[39;00m ebit:\n\u001b[0;32m---> 73\u001b[0m         y \u001b[38;5;241m=\u001b[39m \u001b[43m(\u001b[49m\u001b[43my\u001b[49m\u001b[38;5;241;43m*\u001b[39;49m\u001b[43mbase\u001b[49m\u001b[43m)\u001b[49m\u001b[43m \u001b[49m\u001b[38;5;241;43m%\u001b[39;49m\u001b[43m \u001b[49m\u001b[43mmod\u001b[49m\n\u001b[1;32m     74\u001b[0m \u001b[38;5;28;01mreturn\u001b[39;00m y\n",
      "\u001b[0;31mKeyboardInterrupt\u001b[0m: "
     ]
    }
   ],
   "source": [
    "from Crypto.Cipher import AES\n",
    "from Crypto.Util.Padding import pad, unpad\n",
    "import random\n",
    "from rsa import RSA\n",
    "\n",
    "# Generate AES key for Alice\n",
    "alice_aes_key = random.randbytes(AES.key_size[2])\n",
    "\n",
    "# Generate RSA keys for Bob\n",
    "bob_rsa = RSA(length=512)\n",
    "\n",
    "# Alice encrypts AES key with Bob's RSA public key\n",
    "encrypted_aes_key = bob_rsa.encrypt(alice_aes_key)\n",
    "\n",
    "# Encryption and Decryption using AES\n",
    "aes_plaintext = \"Hello, Bob!\"\n",
    "alice_aes = AES.new(alice_aes_key, AES.MODE_CBC)\n",
    "aes_ciphertext = alice_aes.encrypt(pad(aes_plaintext.encode(), AES.block_size))\n",
    "\n",
    "# Bob decrypts AES key with his RSA private key\n",
    "bob_aes_key = bob_rsa.decrypt(encrypted_aes_key)\n",
    "\n",
    "bob_aes = AES.new(bob_aes_key, AES.MODE_CBC)\n",
    "dec_aes_plaintext = unpad(bob_aes.decrypt(aes_ciphertext), AES.block_size).decode()\n",
    "\n",
    "if aes_plaintext == dec_aes_plaintext:\n",
    "    print('Everything worked fine. Great job!')\n",
    "else:\n",
    "    print('Something went wrong. Check your implementation')\n"
   ]
  }
 ],
 "metadata": {
  "kernelspec": {
   "display_name": "data_security",
   "language": "python",
   "name": "python3"
  },
  "language_info": {
   "codemirror_mode": {
    "name": "ipython",
    "version": 3
   },
   "file_extension": ".py",
   "mimetype": "text/x-python",
   "name": "python",
   "nbconvert_exporter": "python",
   "pygments_lexer": "ipython3",
   "version": "3.10.11"
  }
 },
 "nbformat": 4,
 "nbformat_minor": 2
}
