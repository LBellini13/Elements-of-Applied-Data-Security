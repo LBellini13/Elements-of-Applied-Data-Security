{
 "cells": [
  {
   "cell_type": "code",
   "execution_count": 1,
   "metadata": {},
   "outputs": [],
   "source": [
    "from rsa import ExtendedEuclideanAlgorithm, SquareAndMultiply, MillerRabin, RSA\n",
    "import sympy\n",
    "import random\n",
    "from Crypto.Cipher import AES\n",
    "from Crypto.Util.Padding import pad, unpad\n"
   ]
  },
  {
   "cell_type": "markdown",
   "metadata": {},
   "source": [
    "# RSA"
   ]
  },
  {
   "cell_type": "markdown",
   "metadata": {},
   "source": [
    "## Extended Euclidean Algorithm"
   ]
  },
  {
   "cell_type": "code",
   "execution_count": 2,
   "metadata": {},
   "outputs": [
    {
     "name": "stdout",
     "output_type": "stream",
     "text": [
      "The GCD of 39 and 60 is 3\n",
      "s = -3 and t = 2 are the values so that sa + tm = gcd(a, m), indeed -3*39 + 2*60 = 3\n",
      "\n",
      "The GCD of 2560945 and 98714510 is 5\n",
      "s = 4135267 and t = -107281 are the values so that sa + tm = gcd(a, m), indeed (4135267*2560945) + (-107281*98714510) = 5\n",
      "\n",
      "The GCD of 0 and 2560945 is 2560945\n",
      "s = 0 and t = 1 are the values so that sa + tm = gcd(a, m), indeed (0*0) + (1*2560945) = 2560945\n",
      "\n",
      "The GCD of 25 and 25 is 25\n",
      "s = 1 and t = 0 are the values so that sa + tm = gcd(a, m), indeed (1*25) + (0*25) = 25\n"
     ]
    }
   ],
   "source": [
    "a = 39\n",
    "m = 60\n",
    "gcd, s, t = ExtendedEuclideanAlgorithm(a, m)\n",
    "print(f'The GCD of {a} and {m} is {gcd}')\n",
    "print(f's = {int(s)} and t = {int(t)} are the values so that sa + tm = gcd(a, m),'\\\n",
    "        f' indeed {int(s)}*{a} + {int(t)}*{m} = {gcd}\\n')\n",
    "\n",
    "a = 2560945\n",
    "m = 98714510\n",
    "gcd, s, t = ExtendedEuclideanAlgorithm(a, m)\n",
    "print(f'The GCD of {a} and {m} is {gcd}')\n",
    "print(f's = {int(s)} and t = {int(t)} are the values so that sa + tm = gcd(a, m),'\\\n",
    "        f' indeed ({int(s)}*{a}) + ({int(t)}*{m}) = {gcd}\\n')\n",
    "\n",
    "a = 0\n",
    "m = 2560945\n",
    "gcd, s, t = ExtendedEuclideanAlgorithm(a, m)\n",
    "print(f'The GCD of {a} and {m} is {gcd}')\n",
    "print(f's = {int(s)} and t = {int(t)} are the values so that sa + tm = gcd(a, m),'\\\n",
    "        f' indeed ({int(s)}*{a}) + ({int(t)}*{m}) = {gcd}\\n')\n",
    "\n",
    "a = 25\n",
    "m = 25\n",
    "gcd, s, t = ExtendedEuclideanAlgorithm(a, m)\n",
    "print(f'The GCD of {a} and {m} is {gcd}')\n",
    "print(f's = {int(s)} and t = {int(t)} are the values so that sa + tm = gcd(a, m),'\\\n",
    "        f' indeed ({int(s)}*{a}) + ({int(t)}*{m}) = {gcd}')\n"
   ]
  },
  {
   "cell_type": "markdown",
   "metadata": {},
   "source": [
    "## Square and Multiply"
   ]
  },
  {
   "cell_type": "code",
   "execution_count": 3,
   "metadata": {},
   "outputs": [
    {
     "name": "stdout",
     "output_type": "stream",
     "text": [
      "x^e \\ n = 9\n"
     ]
    }
   ],
   "source": [
    "base = 4\n",
    "exp = 5\n",
    "mod = 35\n",
    "y = SquareAndMultiply(base, exp, mod)\n",
    "print(f'x^e \\\\ n = {y}')"
   ]
  },
  {
   "cell_type": "markdown",
   "metadata": {},
   "source": [
    "## Miller Rabin Primality Test"
   ]
  },
  {
   "cell_type": "code",
   "execution_count": 4,
   "metadata": {},
   "outputs": [
    {
     "name": "stdout",
     "output_type": "stream",
     "text": [
      "6701531651 is probably a prime number\n",
      "1962443363 is probably a prime number\n",
      "786398548 is not a prime number\n",
      "4 is not a prime number\n",
      "161860682384236698774917023853734785426608423 is not a prime number\n"
     ]
    }
   ],
   "source": [
    "n = 6701531651\n",
    "isprime = MillerRabin(n, 1000)\n",
    "if isprime:\n",
    "    print(f'{n} is probably a prime number')\n",
    "else:\n",
    "    print(f'{n} is not a prime number')\n",
    "\n",
    "n = 1962443363\n",
    "isprime = MillerRabin(n, 1000)\n",
    "if isprime:\n",
    "    print(f'{n} is probably a prime number')\n",
    "else:\n",
    "    print(f'{n} is not a prime number') \n",
    "\n",
    "n = 786398548\n",
    "isprime = MillerRabin(n, 1000)\n",
    "if isprime:\n",
    "    print(f'{n} is probably a prime number')\n",
    "else:\n",
    "    print(f'{n} is not a prime number')\n",
    "\n",
    "n = 4\n",
    "isprime = MillerRabin(n, 1000)\n",
    "if isprime:\n",
    "    print(f'{n} is probably a prime number')\n",
    "else:\n",
    "    print(f'{n} is not a prime number')\n",
    "\n",
    "# n = product of 3 big prime numbers\n",
    "n = 735495555426839*587000395258763*374906457293939\n",
    "isprime = MillerRabin(n, 1000)\n",
    "if isprime:\n",
    "    print(f'{n} is probably a prime number')\n",
    "else:\n",
    "    print(f'{n} is not a prime number')\n",
    "\n"
   ]
  },
  {
   "cell_type": "markdown",
   "metadata": {},
   "source": [
    "## RSA implementation testing"
   ]
  },
  {
   "cell_type": "code",
   "execution_count": 5,
   "metadata": {},
   "outputs": [
    {
     "name": "stdout",
     "output_type": "stream",
     "text": [
      "\n",
      "The plaintext is: 3223675867980\n",
      "The ciphertext is: 64091386761571093932794909611\n",
      "The decrypted plaintext is: 3223675867980\n",
      "\n",
      "The plaintext is: b'\\x94pG\\xb8\\x18\\x91\\x94\\xf6\\x12\\xe2\\xad\\xb1\\xb1]\\xfb\\x97M\\x97A\\xdb'\n",
      "The ciphertext is: b\"1\\xe8*g\\xfa%\\xd9\\xbb]_TH\\xbe\\xe4\\x10\\x1c\\x88\\xdd\\xb5\\xb8\\xdaC\\xcbTK\\xa6\\xc7\\x15\\xa5\\xb0\\xcd\\xc3\\xcc\\xb4th\\x0cOA'\\xd4)(\\xb0\\xc1\\x05]`\\xdc\\x9f\\xcc\\x03L\\x08\\x01\\x9c\\x0c\\xe3\\x10#\"\n",
      "The decrypted plaintext is: b'\\x94pG\\xb8\\x18\\x91\\x94\\xf6\\x12\\xe2\\xad\\xb1\\xb1]\\xfb\\x97M\\x97A\\xdb'\n"
     ]
    }
   ],
   "source": [
    "##### Testing of the RSA class #####\n",
    "\n",
    "# Inside the class the instructions in the DEBUG branches are executed\n",
    "# Then p and q are equal to 335895919357171 and 744053548667773 respectively\n",
    "bob = RSA(debug = True)\n",
    "alice = RSA(n = bob.pub_key[0], e = bob.pub_key[1], debug = True)\n",
    "\n",
    "# To simplify the debug process integers are used instead of bytes\n",
    "plaintext = 3223675867980\n",
    "print(f'\\nThe plaintext is: {plaintext}')\n",
    "ciphertext = alice.encrypt(plaintext)\n",
    "print(f'The ciphertext is: {ciphertext}')\n",
    "dec_plaintext = bob.decrypt(ciphertext)\n",
    "print(f'The decrypted plaintext is: {dec_plaintext}')\n",
    "\n",
    "# Full testing with random p and q and key length equal to 512 bits and\n",
    "# bytes format for plaintext and ciphertext\n",
    "bob = RSA(length = 512)\n",
    "alice = RSA(n = bob.pub_key[0], e = bob.pub_key[1])\n",
    "plaintext = random.randbytes(20)\n",
    "print(f'\\nThe plaintext is: {plaintext}')\n",
    "ciphertext = alice.encrypt(plaintext)\n",
    "print(f'The ciphertext is: {ciphertext}')\n",
    "dec_plaintext = bob.decrypt(ciphertext)\n",
    "print(f'The decrypted plaintext is: {dec_plaintext}')\n",
    " "
   ]
  },
  {
   "cell_type": "code",
   "execution_count": 6,
   "metadata": {},
   "outputs": [
    {
     "name": "stdout",
     "output_type": "stream",
     "text": [
      "(541873, 3)\n",
      "(541873, 360267)\n",
      "\n",
      "The plaintext is: b'\\\\\\x858\\xf6\\xeb\\xf4k\\x12)_\\xa2\\xbb\\x17\\xeb\\x11\\x1bwG\\r\\xcf\\xb4\\xff\"\\xb9\\xc6Mix\\xb6g'\n",
      "ERROR -> the plaintext to encrypt is too long. Try with a shorter one\n"
     ]
    }
   ],
   "source": [
    "# The plaintext is chosen so that it longer than the key length. For this reason\n",
    "# it cannot be encrypted. Let's see if an error is raised...\n",
    "bob = RSA(length = 20)\n",
    "print(bob.pub_key)\n",
    "print(bob.priv_key)\n",
    "alice = RSA(n = bob.pub_key[0], e = bob.pub_key[1])\n",
    "plaintext = random.randbytes(30)\n",
    "print(f'\\nThe plaintext is: {plaintext}')\n",
    "try:\n",
    "    ciphertext = alice.encrypt(plaintext)\n",
    "    print(f'The ciphertext is: {ciphertext}')\n",
    "    dec_plaintext = bob.decrypt(ciphertext)\n",
    "    print(f'The decrypted plaintext is: {dec_plaintext}')\n",
    "except ValueError as e:\n",
    "    print(e)"
   ]
  },
  {
   "cell_type": "markdown",
   "metadata": {},
   "source": [
    "## RSA and AES"
   ]
  },
  {
   "cell_type": "code",
   "execution_count": 7,
   "metadata": {},
   "outputs": [
    {
     "name": "stdout",
     "output_type": "stream",
     "text": [
      "Lorem ipsum dolor sit amet, consectetur adipiscing elit, sed do eiusmo ...\n"
     ]
    }
   ],
   "source": [
    "with open('lorem_ipsum.txt', 'r') as f:\n",
    "    aes_plaintext = f.read()\n",
    "print(aes_plaintext[:70] + ' ...')"
   ]
  },
  {
   "cell_type": "code",
   "execution_count": 9,
   "metadata": {},
   "outputs": [
    {
     "name": "stdout",
     "output_type": "stream",
     "text": [
      "Everything worked fine. Great job!\n",
      "The decrypted plaintext is:\n",
      "Lorem ipsum dolor sit amet, consectetur adipiscing elit, sed do eiusmo ...\n"
     ]
    }
   ],
   "source": [
    "# AES.key_size is the list [16, 24, 32]. We select the third as\n",
    "# key length (256 bits)\n",
    "\n",
    "alice_aes_key = random.randbytes(AES.key_size[2])\n",
    "iv = random.randbytes(16)\n",
    "bob_rsa = RSA(length = 512)\n",
    "alice_rsa = RSA(n = bob_rsa.pub_key[0], e = bob_rsa.pub_key[1])\n",
    "bob_aes_key = bob_rsa.decrypt(alice_rsa.encrypt(alice_aes_key))\n",
    "alice_aes = AES.new(alice_aes_key, AES.MODE_CBC, iv)\n",
    "bob_aes = AES.new(bob_aes_key, AES.MODE_CBC, iv)\n",
    "padded_aes_plaintext = pad(aes_plaintext.encode(), AES.block_size)\n",
    "aes_ciphertext = alice_aes.encrypt(pad(aes_plaintext.encode(), AES.block_size))\n",
    "dec_aes_plaintext = (unpad(bob_aes.decrypt(aes_ciphertext), AES.block_size)).decode()\n",
    "if aes_plaintext == dec_aes_plaintext:\n",
    "    print('Everything worked fine. Great job!')\n",
    "    print(f'The decrypted plaintext is:\\n{dec_aes_plaintext[:70]} ...')\n",
    "else:\n",
    "    print('Something went wrong. Check your implementation')\n"
   ]
  }
 ],
 "metadata": {
  "kernelspec": {
   "display_name": "data_security",
   "language": "python",
   "name": "python3"
  },
  "language_info": {
   "codemirror_mode": {
    "name": "ipython",
    "version": 3
   },
   "file_extension": ".py",
   "mimetype": "text/x-python",
   "name": "python",
   "nbconvert_exporter": "python",
   "pygments_lexer": "ipython3",
   "version": "3.12.3"
  }
 },
 "nbformat": 4,
 "nbformat_minor": 2
}
