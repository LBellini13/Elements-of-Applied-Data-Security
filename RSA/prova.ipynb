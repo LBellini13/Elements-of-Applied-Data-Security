{
 "cells": [
  {
   "cell_type": "code",
   "execution_count": 7,
   "metadata": {},
   "outputs": [
    {
     "name": "stdout",
     "output_type": "stream",
     "text": [
      "0\n",
      "b\n"
     ]
    }
   ],
   "source": [
    "a = 5\n",
    "# print(bin(a))\n",
    "# print(len(bin(a)))\n",
    "\n",
    "print(bin(a)[0])\n",
    "print( bin(a)[1])\n",
    "\n",
    "# for bit in bin(a):\n",
    "    # print(bit)"
   ]
  },
  {
   "cell_type": "code",
   "execution_count": 10,
   "metadata": {},
   "outputs": [
    {
     "name": "stdout",
     "output_type": "stream",
     "text": [
      "q = 13\n",
      "r = 1\n"
     ]
    }
   ],
   "source": [
    "def find_q_r(p):\n",
    "    r = 0\n",
    "    while (p - 1) % (2 ** (r + 1)) == 0:\n",
    "        r += 1\n",
    "    q = (p - 1) // (2 ** r)\n",
    "    return q, r\n",
    "\n",
    "# Example usage:\n",
    "p = 27  # An odd number\n",
    "q, r = find_q_r(p)\n",
    "print(\"q =\", q)\n",
    "print(\"r =\", r)\n"
   ]
  },
  {
   "cell_type": "code",
   "execution_count": 24,
   "metadata": {},
   "outputs": [
    {
     "name": "stdout",
     "output_type": "stream",
     "text": [
      "True\n"
     ]
    }
   ],
   "source": [
    "import random\n",
    "\n",
    "def findqr(p):\n",
    "    r = 0\n",
    "    while (p - 1) % (2 ** (r + 1)) == 0:\n",
    "        r += 1\n",
    "    q = (p - 1) // (2 ** r)\n",
    "    return q, r\n",
    "\n",
    "def MillerRabin(p, N):\n",
    "    q, r = findqr(p)\n",
    "    for _ in range(N):\n",
    "        x = random.randint(2, p-2)\n",
    "        y = pow(x, q, p)\n",
    "        print(f'x^q\\p = {y}')\n",
    "        if y == 1 or y == p-1:\n",
    "            continue\n",
    "        for _ in range(r):\n",
    "            y = pow(y, 2, p)\n",
    "            print(f'y^2\\p = {y}')\n",
    "            if y == p-1:\n",
    "                break\n",
    "        else:\n",
    "            return False\n",
    "    return True\n",
    "\n",
    "print(MillerRabin(569007632860640968768434272201, 10000))"
   ]
  },
  {
   "cell_type": "code",
   "execution_count": 29,
   "metadata": {},
   "outputs": [
    {
     "name": "stdout",
     "output_type": "stream",
     "text": [
      "True\n"
     ]
    }
   ],
   "source": [
    "print(bool('1'))"
   ]
  },
  {
   "cell_type": "code",
   "execution_count": null,
   "metadata": {},
   "outputs": [],
   "source": [
    "a = 100\n",
    "a_bytes = a.to_bytes((a // 256 ) + 1, byteorder='big')\n"
   ]
  }
 ],
 "metadata": {
  "kernelspec": {
   "display_name": "data_security",
   "language": "python",
   "name": "python3"
  },
  "language_info": {
   "codemirror_mode": {
    "name": "ipython",
    "version": 3
   },
   "file_extension": ".py",
   "mimetype": "text/x-python",
   "name": "python",
   "nbconvert_exporter": "python",
   "pygments_lexer": "ipython3",
   "version": "3.12.3"
  }
 },
 "nbformat": 4,
 "nbformat_minor": 2
}
